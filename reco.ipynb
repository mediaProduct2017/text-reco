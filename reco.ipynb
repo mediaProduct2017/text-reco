{
 "cells": [
  {
   "cell_type": "markdown",
   "metadata": {},
   "source": [
    "# 中文长文本分类（今日头条数据）\n",
    "\n",
    "jeff\n",
    "\n",
    "guojianfu@gmail.com\n",
    "\n",
    "2017.9.27"
   ]
  },
  {
   "cell_type": "markdown",
   "metadata": {},
   "source": [
    "## 1. 数据的import和access"
   ]
  },
  {
   "cell_type": "code",
   "execution_count": 1,
   "metadata": {},
   "outputs": [
    {
     "name": "stdout",
     "output_type": "stream",
     "text": [
      "0.20.3\n",
      "\r\n",
      "1.1.0\n"
     ]
    }
   ],
   "source": [
    "import pandas as pd\n",
    "# xlrd is also requried\n",
    "print(pd.__version__)\n",
    "print('\\r')\n",
    "import xlrd\n",
    "print(xlrd.__VERSION__)\n",
    "# dir(xlrd)\n",
    "# you shouldn't name a file or a folder arbitrarily"
   ]
  },
  {
   "cell_type": "code",
   "execution_count": 2,
   "metadata": {},
   "outputs": [
    {
     "data": {
      "text/plain": [
       "'1.12.1'"
      ]
     },
     "execution_count": 2,
     "metadata": {},
     "output_type": "execute_result"
    }
   ],
   "source": [
    "import numpy\n",
    "numpy.__version__"
   ]
  },
  {
   "cell_type": "code",
   "execution_count": 3,
   "metadata": {
    "collapsed": true
   },
   "outputs": [],
   "source": [
    "xl = pd.ExcelFile(\"toutiao.xlsx\")\n",
    "# xl = pd.read_excel(\"toutiao.xlsx\")"
   ]
  },
  {
   "cell_type": "code",
   "execution_count": 4,
   "metadata": {},
   "outputs": [
    {
     "data": {
      "text/plain": [
       "['Sheet1']"
      ]
     },
     "execution_count": 4,
     "metadata": {},
     "output_type": "execute_result"
    }
   ],
   "source": [
    "xl.sheet_names"
   ]
  },
  {
   "cell_type": "code",
   "execution_count": 5,
   "metadata": {
    "collapsed": true
   },
   "outputs": [],
   "source": [
    "df = xl.parse(\"Sheet1\")"
   ]
  },
  {
   "cell_type": "code",
   "execution_count": 6,
   "metadata": {},
   "outputs": [
    {
     "name": "stdout",
     "output_type": "stream",
     "text": [
      "(13140, 10)\n"
     ]
    },
    {
     "data": {
      "text/html": [
       "<div>\n",
       "<style>\n",
       "    .dataframe thead tr:only-child th {\n",
       "        text-align: right;\n",
       "    }\n",
       "\n",
       "    .dataframe thead th {\n",
       "        text-align: left;\n",
       "    }\n",
       "\n",
       "    .dataframe tbody tr th {\n",
       "        vertical-align: top;\n",
       "    }\n",
       "</style>\n",
       "<table border=\"1\" class=\"dataframe\">\n",
       "  <thead>\n",
       "    <tr style=\"text-align: right;\">\n",
       "      <th></th>\n",
       "      <th>原创</th>\n",
       "      <th>题目</th>\n",
       "      <th>评论</th>\n",
       "      <th>阅读</th>\n",
       "      <th>日期</th>\n",
       "      <th>时间</th>\n",
       "      <th>类别</th>\n",
       "      <th>URL</th>\n",
       "      <th>正文</th>\n",
       "      <th>标签</th>\n",
       "    </tr>\n",
       "  </thead>\n",
       "  <tbody>\n",
       "    <tr>\n",
       "      <th>0</th>\n",
       "      <td>原</td>\n",
       "      <td>一触即发！美国军方一号进沈阳释放强烈信号</td>\n",
       "      <td>1</td>\n",
       "      <td>15720327</td>\n",
       "      <td>2017-08-18</td>\n",
       "      <td>15:38:45</td>\n",
       "      <td>军事</td>\n",
       "      <td>http://www.toutiao.com/a6455515910357647885/</td>\n",
       "      <td>“如果朝鲜问题将出现一种军事解决方案，那绝对是可怕的。”在美朝口水战空前激烈的背景下，美国参...</td>\n",
       "      <td>美国/朝鲜半岛/陆军/Jeep指挥官/</td>\n",
       "    </tr>\n",
       "    <tr>\n",
       "      <th>1</th>\n",
       "      <td>原</td>\n",
       "      <td>印度外交部哀叹，印度没有收到来自中国的洪水数据</td>\n",
       "      <td>31832</td>\n",
       "      <td>6600593</td>\n",
       "      <td>2017-08-19</td>\n",
       "      <td>10:30:13</td>\n",
       "      <td>国际</td>\n",
       "      <td>http://www.toutiao.com/a6455807489534345742/</td>\n",
       "      <td>作者：王德华印度每年6月至9月是季风雨季，雷电暴雨天气频发，洪水及泥石流等灾害经常发生。印度...</td>\n",
       "      <td>布拉马普特拉河/恒河/象泉河/雅鲁藏布江/</td>\n",
       "    </tr>\n",
       "    <tr>\n",
       "      <th>2</th>\n",
       "      <td>原</td>\n",
       "      <td>上任仅仨月他已成南海中国神队友，美国下一个天敌？</td>\n",
       "      <td>211</td>\n",
       "      <td>3133985</td>\n",
       "      <td>2017-08-17</td>\n",
       "      <td>16:02:46</td>\n",
       "      <td>国际</td>\n",
       "      <td>http://www.toutiao.com/a6455151014193398286/</td>\n",
       "      <td>东盟外长会结束一周以后，菲律宾又搞出了一个“大动作”。该国外长宣布，将与中国联合勘探南海。看...</td>\n",
       "      <td>南海/东盟/美国/王毅/</td>\n",
       "    </tr>\n",
       "    <tr>\n",
       "      <th>3</th>\n",
       "      <td>NaN</td>\n",
       "      <td>「养生堂」今日17：25播出《秋季长寿养生经——打破秋季高发</td>\n",
       "      <td>0</td>\n",
       "      <td>3106659</td>\n",
       "      <td>2017-08-17</td>\n",
       "      <td>13:39:46</td>\n",
       "      <td>健康</td>\n",
       "      <td>http://www.toutiao.com/a6454568844127469837/</td>\n",
       "      <td>NaN</td>\n",
       "      <td>NaN</td>\n",
       "    </tr>\n",
       "    <tr>\n",
       "      <th>4</th>\n",
       "      <td>NaN</td>\n",
       "      <td>「养生厨房」今日播出——西红柿烧茄子</td>\n",
       "      <td>0</td>\n",
       "      <td>3105632</td>\n",
       "      <td>2017-08-18</td>\n",
       "      <td>14:23:27</td>\n",
       "      <td>美食</td>\n",
       "      <td>http://www.toutiao.com/a6455273360070574349/</td>\n",
       "      <td>NaN</td>\n",
       "      <td>NaN</td>\n",
       "    </tr>\n",
       "  </tbody>\n",
       "</table>\n",
       "</div>"
      ],
      "text/plain": [
       "    原创                              题目     评论        阅读         日期        时间  \\\n",
       "0    原            一触即发！美国军方一号进沈阳释放强烈信号      1  15720327 2017-08-18  15:38:45   \n",
       "1    原         印度外交部哀叹，印度没有收到来自中国的洪水数据  31832   6600593 2017-08-19  10:30:13   \n",
       "2    原        上任仅仨月他已成南海中国神队友，美国下一个天敌？    211   3133985 2017-08-17  16:02:46   \n",
       "3  NaN  「养生堂」今日17：25播出《秋季长寿养生经——打破秋季高发      0   3106659 2017-08-17  13:39:46   \n",
       "4  NaN              「养生厨房」今日播出——西红柿烧茄子      0   3105632 2017-08-18  14:23:27   \n",
       "\n",
       "   类别                                           URL  \\\n",
       "0  军事  http://www.toutiao.com/a6455515910357647885/   \n",
       "1  国际  http://www.toutiao.com/a6455807489534345742/   \n",
       "2  国际  http://www.toutiao.com/a6455151014193398286/   \n",
       "3  健康  http://www.toutiao.com/a6454568844127469837/   \n",
       "4  美食  http://www.toutiao.com/a6455273360070574349/   \n",
       "\n",
       "                                                  正文                     标签  \n",
       "0  “如果朝鲜问题将出现一种军事解决方案，那绝对是可怕的。”在美朝口水战空前激烈的背景下，美国参...    美国/朝鲜半岛/陆军/Jeep指挥官/  \n",
       "1  作者：王德华印度每年6月至9月是季风雨季，雷电暴雨天气频发，洪水及泥石流等灾害经常发生。印度...  布拉马普特拉河/恒河/象泉河/雅鲁藏布江/  \n",
       "2  东盟外长会结束一周以后，菲律宾又搞出了一个“大动作”。该国外长宣布，将与中国联合勘探南海。看...           南海/东盟/美国/王毅/  \n",
       "3                                                NaN                    NaN  \n",
       "4                                                NaN                    NaN  "
      ]
     },
     "execution_count": 6,
     "metadata": {},
     "output_type": "execute_result"
    }
   ],
   "source": [
    "print(df.shape)\n",
    "s=df.head()\n",
    "s"
   ]
  },
  {
   "cell_type": "code",
   "execution_count": 7,
   "metadata": {},
   "outputs": [
    {
     "name": "stdout",
     "output_type": "stream",
     "text": [
      "原创                                                     原\n",
      "题目                                  一触即发！美国军方一号进沈阳释放强烈信号\n",
      "评论                                                     1\n",
      "阅读                                              15720327\n",
      "日期                                   2017-08-18 00:00:00\n",
      "时间                                              15:38:45\n",
      "类别                                                    军事\n",
      "URL         http://www.toutiao.com/a6455515910357647885/\n",
      "正文     “如果朝鲜问题将出现一种军事解决方案，那绝对是可怕的。”在美朝口水战空前激烈的背景下，美国参...\n",
      "标签                                   美国/朝鲜半岛/陆军/Jeep指挥官/\n",
      "Name: 0, dtype: object\n",
      "\r\n",
      "<class 'pandas.core.series.Series'>\n"
     ]
    }
   ],
   "source": [
    "print(s.iloc[0,:])\n",
    "print('\\r')\n",
    "print(type(s.iloc[0,:]))"
   ]
  },
  {
   "cell_type": "code",
   "execution_count": 8,
   "metadata": {},
   "outputs": [
    {
     "data": {
      "text/plain": [
       "0      原\n",
       "1      原\n",
       "2      原\n",
       "3    NaN\n",
       "4    NaN\n",
       "Name: 原创, dtype: object"
      ]
     },
     "execution_count": 8,
     "metadata": {},
     "output_type": "execute_result"
    }
   ],
   "source": [
    "s.iloc[:,0]\n",
    "# s.loc[,]"
   ]
  },
  {
   "cell_type": "code",
   "execution_count": 9,
   "metadata": {},
   "outputs": [
    {
     "data": {
      "text/plain": [
       "0      原\n",
       "1      原\n",
       "2      原\n",
       "3    NaN\n",
       "4    NaN\n",
       "Name: 原创, dtype: object"
      ]
     },
     "execution_count": 9,
     "metadata": {},
     "output_type": "execute_result"
    }
   ],
   "source": [
    "s['原创']\n",
    "# s.loc[:, '原创']"
   ]
  },
  {
   "cell_type": "code",
   "execution_count": 10,
   "metadata": {},
   "outputs": [
    {
     "name": "stdout",
     "output_type": "stream",
     "text": [
      "“如果朝鲜问题将出现一种军事解决方案，那绝对是可怕的。”在美朝口水战空前激烈的背景下，美国参谋长联席会议主席约瑟夫·邓福德，近日访问了北部战区司令部驻地沈阳和首都北京。长安街知事App发现，这是美军高层首次参观能近距离监控中朝边境的地区。敏感时期，中国将美国军方一号人物请到沈阳，释放了强烈的信号。真正狠角儿不靠嘴前有二战功勋“五星上将”布莱德雷，后有“太空司令”理查德·迈尔斯——作为美国军方“首长堆儿里的首长”，参联会主席从来不是“软蛋”，现任主席约瑟夫·邓福德更因为在战场上的功绩得到“Fighting Joe，战斗乔”的绰号。不过，正因为军人的身份，美国军方的指挥官们，比五角大楼和白宫的文官说话更靠谱。昨天，邓福德结束了访问解放军北部战区和北京的行程。美联社说，邓福德在北京会见中国军方高层时表达了这样一层意思：如果朝鲜问题将出现一种军事解决方案，那绝对是可怕的，这一点毋庸置疑。“我的意思是，我们有必要制定有效的沟通机制，这样一来，一旦爆发危机，我们能够立即进行对话，避免误判和加剧危机。”有意思的是，邓福德的说法，与美国总统特朗普和防长马蒂斯截然相反，二者曾分别在办公室里向记者咆哮“朝鲜将面临前所未有的炮火与怒火”“一旦美军对朝开展，朝鲜必败”等等。这被媒体广泛解读为，口水战。然而，真正的狠角儿不靠嘴。《华尔街日报》透露，早在特朗普与金正恩口水战升温之前，邓福德的访华计划就已制订。指挥官们“怕”什么？“美国希望金正恩同意实现朝鲜无核化并停止试射导弹。”邓福德在北京说，这是更可取的最终状态。那么，美国指挥官们“怕”什么呢？班农，白宫中少数与军方持相同观点的文官说了实话。这位正逐渐被边缘化的特朗普首席战略分析师说，“对朝鲜，美国不存在军事解决方案，忘了它吧。在有人解开这部分方程式，向我证明首尔的1000万人不会在头30分钟死于常规武器之前，我不知道你在谈论的是什么，这里根本不存在军事解决方案，他们难住了我们。”没错，知事早先分析过，朝鲜真正的王牌并不是那些有的没的核导弹，而是隐藏在三八线群山地下工事中的近千门火炮。一旦朝鲜拼命，这些火炮一轮齐射，就可让距离三八线仅45公里的首尔，瞬间回到30年前，1000多万居民身处火海。美国太平洋舰队司令部有多少航母舰载机，关岛、釜山、横须贺基地有多少弹道导弹，能“先发制人”削平板门店附近的山头呢？如果不能保全首尔，那么特朗普的炮火，瞬间就会转化为韩国人的怒火。一旦开火，中美怎么办？与到访北京同样受关注的是，邓福德访华之旅还有重要一站，沈阳——解放军北部战区司令部。美国媒体称，这是中国距离朝鲜最近的战区。《华尔街日报》称，美国高层军官几乎从未参观过，能近距离监控中朝边境的地区。中国在敏感时期将美国军方一号请到这里意味着什么？美国人给出的解释是，这似乎表明，朝鲜的威胁越来越大，中国也和美国一样担心。16日，邓福德还在沈阳观看了陆军某“合成旅”的实弹演习，这是在中国军改下于近几个月组建的新军事单位之一，位于中国东北的部队旨在应对包括美国军事打击在内的潜在朝鲜危机。美国军方官员称，邓福德观摩实弹演习之后，似乎并没有发现任何可能用于朝鲜危机的特殊能力。那么，一旦半岛生战，中美会怎么办？美国媒体称，中国长期以来一直拒绝美国提出的双方进行磋商沟通的请求。美国提出中美进行磋商，防止一旦爆发朝鲜危机，美国和中国的行动产生冲突。而此次美中之间展开的新讨论显示中国的想法发生转变。邓福德对记者说，围绕朝鲜半岛潜在危机可能局面的初步对话应在危机爆发前展开。“两国军方建立有效的沟通机制是有帮助的，一旦发生危机，双方可以立即交流，从而避免误判并加深危机。”而这也是中国向美方释放出的强烈信号。根据中国国防部发布的消息，军委副主席范长龙在北京会见邓福德时说，对话协商是解决朝鲜半岛问题的唯一有效途径，军事手段不能成为选项。\n",
      "\r\n",
      "<class 'str'>\n"
     ]
    }
   ],
   "source": [
    "st = s.loc[0,'正文']\n",
    "print(st)\n",
    "print('\\r')\n",
    "print(type(st))"
   ]
  },
  {
   "cell_type": "markdown",
   "metadata": {},
   "source": [
    "## 2. 分词及分词前的处理"
   ]
  },
  {
   "cell_type": "code",
   "execution_count": 11,
   "metadata": {
    "collapsed": true
   },
   "outputs": [],
   "source": [
    "import jieba"
   ]
  },
  {
   "cell_type": "code",
   "execution_count": 12,
   "metadata": {},
   "outputs": [
    {
     "name": "stdout",
     "output_type": "stream",
     "text": [
      "!\"#$%&'()*+,-./:;<=>?@[\\]^_`{|}~\n",
      "\r\n",
      "New Dictionary : {'!': ' ', '\"': ' ', '#': ' ', '$': ' ', '%': ' ', '&': ' ', \"'\": ' ', '(': ' ', ')': ' ', '*': ' ', '+': ' ', ',': ' ', '-': ' ', '.': ' ', '/': ' ', ':': ' ', ';': ' ', '<': ' ', '=': ' ', '>': ' ', '?': ' ', '@': ' ', '[': ' ', '\\\\': ' ', ']': ' ', '^': ' ', '_': ' ', '`': ' ', '{': ' ', '|': ' ', '}': ' ', '~': ' ', '。': ' ', '，': ' ', '“': ' ', '”': ' ', '‘': ' ', '’': ' ', '（': ' ', '）': ' ', '：': ' ', '；': ' ', '？': ' ', '·': ' ', '—': ' ', '《': ' ', '》': ' ', '、': ' '}\n"
     ]
    }
   ],
   "source": [
    "import string\n",
    "import re\n",
    "\n",
    "print(string.punctuation)\n",
    "print('\\r')\n",
    "# m = st.translate(None, string.punctuation)\n",
    "intab = string.punctuation + '。，“”‘’（）：；？·—《》、'\n",
    "outtab = ' '\n",
    "print (\"New Dictionary : %s\" %  str(dict.fromkeys(intab, outtab)))\n",
    "table = str.maketrans(dict.fromkeys(intab, outtab))\n",
    "st1 = st.translate(table)\n",
    "# 替换掉字符串中的所有character，用正则表达式的话要用\\连起来，表示或\n",
    "st1 = re.sub(\"\\d\", \" \", st1)\n",
    "# 用正则表达式替换掉数字"
   ]
  },
  {
   "cell_type": "code",
   "execution_count": 13,
   "metadata": {},
   "outputs": [
    {
     "name": "stdout",
     "output_type": "stream",
     "text": [
      "{'再', '那', '们', '于', '亦', '为', '尔', '各', '别', '沿', '用', '吧', '但', '些', '又', '该', '可', '被', '看', '给', '的', '趁', '么', '曾', '让', '据', '一', '是', '或', '谁', '小', '很', '打', '当', '啦', '咱', '他', '距', '与', '怎', '至', '跟', '已', '它', '您', '最', '你', '不', '则', '也', '上', '且', '从', '虽', '嘛', '何', '个', '哟', '仍', '同', '今', '因', '几', '哪', '在', '这', '使', '啥', '来', '凡', '好', '得', '随', '而', '人', '嗡', '无', '凭', '诸', '由', '靠', '所', '还', '和', '却', '致', '乃', '比', '向', '自', '我', '及', '其', '如', '起', '某', '后', '儿', '哇', '只', '并', '以', '把', '到', '既', '若', '每', '去', '此', '着', '她', '拿', '之', '有', '往', '另', '即', '了', '下'}\n"
     ]
    }
   ],
   "source": [
    "from many_stop_words import get_stop_words, available_languages\n",
    "# available_languages\n",
    "stopset = get_stop_words('zh')\n",
    "# type(get_stop_words('zh')), set\n",
    "print(stopset)\n",
    "my_stopset = set([' ', '如果', '问题', '将', '时', '更', '正', '说']).union(stopset)"
   ]
  },
  {
   "cell_type": "code",
   "execution_count": 14,
   "metadata": {},
   "outputs": [
    {
     "name": "stderr",
     "output_type": "stream",
     "text": [
      "Building prefix dict from the default dictionary ...\n",
      "Loading model from cache /var/folders/jd/1z1j_nrj4glfy5lc0l0ld0q00000gn/T/jieba.cache\n",
      "Loading model cost 1.108 seconds.\n",
      "Prefix dict has been built succesfully.\n"
     ]
    },
    {
     "name": "stdout",
     "output_type": "stream",
     "text": [
      "朝鲜\n",
      "出现\n",
      "一种\n",
      "军事\n",
      "解决方案\n",
      "绝对\n",
      "可怕\n",
      "美朝\n",
      "口水战\n",
      "空前\n",
      "激烈\n",
      "背景\n",
      "美国参谋长联席会议\n",
      "主席\n",
      "约瑟夫\n",
      "邓福德\n",
      "近日\n",
      "访问\n",
      "北部\n",
      "战区\n",
      "司令部\n",
      "驻地\n",
      "沈阳\n",
      "首都北京\n",
      "长安街\n",
      "知事\n",
      "App\n",
      "发现\n",
      "这是\n",
      "美军\n",
      "高层\n"
     ]
    }
   ],
   "source": [
    "seg_list = jieba.cut(st1, cut_all=False)\n",
    "# cut_all=False is slower than cut_all=True\n",
    "# print([i for i in seg_list])\n",
    "j=0\n",
    "for i in seg_list:\n",
    "    if i not in my_stopset:\n",
    "        print(i)\n",
    "    j+=1\n",
    "    if j>50:\n",
    "        break"
   ]
  },
  {
   "cell_type": "markdown",
   "metadata": {},
   "source": [
    "## 3. Retrieve useful information"
   ]
  },
  {
   "cell_type": "code",
   "execution_count": 15,
   "metadata": {},
   "outputs": [
    {
     "data": {
      "text/plain": [
       "['danish',\n",
       " 'dutch',\n",
       " 'english',\n",
       " 'finnish',\n",
       " 'french',\n",
       " 'german',\n",
       " 'hungarian',\n",
       " 'italian',\n",
       " 'kazakh',\n",
       " 'norwegian',\n",
       " 'portuguese',\n",
       " 'romanian',\n",
       " 'russian',\n",
       " 'spanish',\n",
       " 'swedish',\n",
       " 'turkish']"
      ]
     },
     "execution_count": 15,
     "metadata": {},
     "output_type": "execute_result"
    }
   ],
   "source": [
    "from nltk.corpus import stopwords\n",
    "stopwords.fileids()"
   ]
  },
  {
   "cell_type": "code",
   "execution_count": 16,
   "metadata": {},
   "outputs": [
    {
     "name": "stdout",
     "output_type": "stream",
     "text": [
      "43.4 ns ± 2.23 ns per loop (mean ± std. dev. of 7 runs, 10000000 loops each)\n"
     ]
    }
   ],
   "source": [
    "%timeit 'g' in 'abcdefg'\n",
    "# 在string中做查询最快，其次是set，最慢是list\n",
    "# 也说明字符串处理起来很快，所以，把list中的词用join连成字符串再做处理有优势"
   ]
  },
  {
   "cell_type": "code",
   "execution_count": 17,
   "metadata": {},
   "outputs": [
    {
     "name": "stdout",
     "output_type": "stream",
     "text": [
      "{'d', 'f', 'g', 'e', 'c', 'b', 'a'}\n",
      "['a', 'b', 'c', 'd', 'e', 'f', 'g']\n"
     ]
    }
   ],
   "source": [
    "temp1 = set('abcdefg')\n",
    "print(temp1)\n",
    "temp2 = list('abcdefg')\n",
    "print(temp2)"
   ]
  },
  {
   "cell_type": "code",
   "execution_count": 18,
   "metadata": {},
   "outputs": [
    {
     "name": "stdout",
     "output_type": "stream",
     "text": [
      "61.8 ns ± 0.913 ns per loop (mean ± std. dev. of 7 runs, 10000000 loops each)\n",
      "226 ns ± 48 ns per loop (mean ± std. dev. of 7 runs, 1000000 loops each)\n"
     ]
    }
   ],
   "source": [
    "%timeit 'g' in temp1\n",
    "%timeit 'g' in temp2"
   ]
  },
  {
   "cell_type": "code",
   "execution_count": 19,
   "metadata": {},
   "outputs": [
    {
     "name": "stdout",
     "output_type": "stream",
     "text": [
      "朝鲜 出现 一种 军事 解决方案 绝对 可怕 美朝 口水战 空前 激烈 背景 美国参谋长联席会议 主席 约瑟夫 邓福德 近日 访问 北部 战区 司令部 驻地 沈阳 首都北京 长安街 知事 App 发现 这是 美军 高层 首次 参观 能 近距离 监控 中 朝 边境 地区 敏感时期 中国 美国 军方 一号 人物 请 沈阳 释放 强烈 信号 真正 狠 角儿 不靠 嘴前 二战 功勋 五星上将 布莱德雷 太空 司令 理查德 迈尔斯 作为 美国 军方 首长 堆儿 里 首长 参联会 主席 从来不 软蛋 现任 主席 约瑟夫 邓福德 因为 战场 功绩 得到 Fighting Joe 战斗 乔 绰号 不过 因为 军人 身份 美国 军方 指挥官 五角大楼 白宫 文官 说话 谱 昨天 邓福德 结束 访问 解放军 北部 战区 北京 行程 美联社 邓福德 北京 会见 中国军方 高层 表达 这样 一层 意思 朝鲜 出现 一种 军事 解决方案 绝对 可怕 一点 毋庸置疑 意思 我们 必要 制定 有效 沟通 机制 这样一来 一旦 爆发 危机 我们 能够 立即 进行 对话 避免 误判 加剧 危机 有意思 邓福德 说法 美国 总统 特朗普 防长 马蒂斯 截然 相反 二者 分别 办公室 里 记者 咆哮 朝鲜 面临 前所未有 炮火 怒火 一旦 美军 对朝 开展 朝鲜 必败 等等 媒体 广泛 解读 口水战 然而 真正 狠 角儿 不靠 嘴 华尔街日报 透露 早 特朗普 金正恩 口水战 升温 之前 邓福德 访华 计划 就 制订 指挥官 怕 什么 美国 希望 金正恩 同意 实现 朝鲜 无核化 停止 试射 导弹 邓福德 北京 可取 最终 状态 那么 美国 指挥官 怕 什么 呢 班农 白宫 中 少数 军方 持 相同 观点 文官 实话 这位 逐渐 边缘化 特朗普 首席 战略 分析师 对 朝鲜 美国 存在 军事 解决方案 忘 有人 解开 这部分 方程式 证明 首尔 万人 不会 头 分钟 死 常规武器 之前 知道 谈论 什么 这里 根本 存在 军事 解决方案 他们 难住 我们 没错 知事 早先 分析 过 朝鲜 真正 王牌 不是 那些 没 核导弹 而是 隐藏 三八线 群山 地下 工事 中 近 千门 火炮 一旦 朝鲜 拼命 这些 火炮 一轮 齐射 就 距离 三八线 仅 公里 首尔 瞬间 回到 年前 多万 居民 身处 火海 美国 太平洋 舰队 司令部 多少 航母 舰载机 关岛 釜山 横须贺 基地 多少 弹道导弹 能 先发制人 削平 板门店 附近 山头 呢 不能 保全 首尔 那么 特朗普 炮火 瞬间 就 会 转化 韩国 怒火 一旦 开火 中 美 怎么办 到访 北京 同样 受 关注 邓福德 访华之旅 还有 重要 一站 沈阳 解放军 北部 战区 司令部 美国 媒体 称 这是 中国 距离 朝鲜 最近 战区 华尔街日报 称 美国 高层 军官 几乎 从未 参观 过 能 近距离 监控 中 朝 边境 地区 中国 敏感时期 美国 军方 一号 请 这里 意味着 什么 美国 给出 解释 似乎 表明 朝鲜 威胁 越来越 大 中国 美国 一样 担心 日 邓福德 沈阳 观看 陆军 合成 旅 实弹演习 中国 军改 下于 近几个月 组建 新 军事 单位 之一 位于 中国 东北 部队 旨在 应对 包括 美国 军事 打击 在内 潜在 朝鲜 危机 美国 军方 官员 称 邓福德 观摩 实弹演习 之后 似乎 没有 发现 任何 可能 用于 朝鲜 危机 特殊 能力 那么 一旦 半岛 生战 中美会 怎么办 美国 媒体 称 中国 长期以来 一直 拒绝 美国 提出 双方 进行 磋商 沟通 请求 美国 提出 中 美 进行 磋商 防止 一旦 爆发 朝鲜 危机 美国 中国 行动 产生 冲突 此次 美 中 之间 展开 新 讨论 显示 中国 想法 发生 转变 邓福德 对 记者 围绕 朝鲜半岛 潜在 危机 可能 局面 初步 对话 应 危机 爆发 前 展开 两 国 军方 建立 有效 沟通 机制 帮助 一旦 发生 危机 双方 可以 立即 交流 从而 避免 误判 加深 危机 中国 美方 释放 出 强烈 信号 根据 中国国防部 发布 消息 军委 副 主席 范 长龙 北京 会见 邓福德 时说 对话 协商 解决 朝鲜半岛 唯一 有效途径 军事手段 不能 成为 选项\n"
     ]
    },
    {
     "data": {
      "text/plain": [
       "str"
      ]
     },
     "execution_count": 19,
     "metadata": {},
     "output_type": "execute_result"
    }
   ],
   "source": [
    "filter_seg=filter(lambda x: x not in my_stopset and len(x.strip())>0, jieba.cut(st1))\n",
    "# type(filter_seg)\n",
    "# print(filter_seg)\n",
    "# print(len(list(filter_seg)))\n",
    "# print('\\r')\n",
    "# print(' '.join(filter_seg))\n",
    "\n",
    "data_tokenized = ' '.join(filter_seg)\n",
    "print(data_tokenized)\n",
    "type(data_tokenized)"
   ]
  },
  {
   "cell_type": "code",
   "execution_count": 20,
   "metadata": {},
   "outputs": [
    {
     "name": "stdout",
     "output_type": "stream",
     "text": [
      "邓福德 朝鲜 美国 军方 特朗普 危机 一旦 解决方案 军事 战区 口水战 中国 沈阳 首尔 指挥官 实弹演习 金正恩 北京 主席 敏感时期 误判 对话 高层 司令部 沟通 角儿 三八线 知事 约瑟夫 不靠 华尔街日报 朝鲜半岛 媒体 近距离 白宫 爆发 怒火 北部 磋商 一号 炮火 文官 会见 瞬间 真正 解放军 参观 首长 监控 美军 边境 火炮 访问 什么 潜在 那么 可怕 怎么办 中国国防部 释放 信号 布莱德雷 参联会 千门 距离 避免 中国军方 展开 机制 绝对 美朝 美国参谋长联席会议 App 嘴前 迈尔斯 Fighting Joe 防长 对朝 班农 军改 下于 生战 中美会 如果 问题 强烈 立即 意思 双方 军事手段 软蛋 马蒂斯 横须贺 板门店 进行 五星上将 核导弹 无核化 访华之旅\n"
     ]
    }
   ],
   "source": [
    "import jieba.analyse\n",
    "tags = jieba.analyse.extract_tags(st1, topK=100)\n",
    "print(' '.join(tags))"
   ]
  },
  {
   "cell_type": "code",
   "execution_count": 21,
   "metadata": {},
   "outputs": [
    {
     "name": "stdout",
     "output_type": "stream",
     "text": [
      " /x\n",
      "如果/c\n",
      "朝鲜/ns\n",
      "问题/n\n",
      "将/d\n",
      "出现/v\n",
      "一种/m\n",
      "军事/n\n",
      "解决方案/n\n",
      " /x\n",
      "那/r\n",
      "绝对/d\n",
      "是/v\n",
      "可怕/c\n",
      "的/uj\n",
      " /x\n",
      " /x\n",
      "在/p\n",
      "美朝/ns\n",
      "口水战/n\n",
      "空前/s\n"
     ]
    }
   ],
   "source": [
    "# python -m spacy.zh.download all\n",
    "# No module named spacy.zh.download\n",
    "\n",
    "import jieba.posseg as pseg\n",
    "ws = pseg.cut(st1)\n",
    "j=0\n",
    "for i in ws:\n",
    "    print(i)\n",
    "    j+=1\n",
    "    if j>20:\n",
    "        break"
   ]
  },
  {
   "cell_type": "code",
   "execution_count": 22,
   "metadata": {},
   "outputs": [
    {
     "name": "stdout",
     "output_type": "stream",
     "text": [
      "朝鲜 美国 军方 危机 解决方案 军事 战区 口水战 中国 沈阳 指挥官 实弹演习 北京 主席 敏感时期 误判 对话 高层 司令部 沟通 角儿 知事 不靠 朝鲜半岛 媒体 爆发 怒火 炮火 文官 会见 参观 首长 边境 火炮 访问 可怕 释放 信号 距离 避免 展开 机制 美朝 防长 下于 如果 问题 意思 双方 军事手段 软蛋 横须贺 板门店 进行 核导弹 五角大楼 首都北京 堆儿 难住 边缘化 削平 釜山 长龙 长安街 理查德 齐射 到访 观摩 试射 先发制人 必败 关岛 火海 开火 方程式 军委 提出 王牌 存在 可取 咆哮 地区 功勋 发现 发生 群山 工事 记者 航母 绰号 太空 功绩 保全 没错 弹道导弹 选项 时说 实话 山头 因为\n"
     ]
    }
   ],
   "source": [
    "tags = jieba.analyse.extract_tags(st1, topK=100, allowPOS=('n', 'v', 'c', 'ns'))\n",
    "print(' '.join(tags))"
   ]
  },
  {
   "cell_type": "code",
   "execution_count": 23,
   "metadata": {},
   "outputs": [
    {
     "name": "stdout",
     "output_type": "stream",
     "text": [
      "朝鲜 美国 军方 危机 解决方案 军事 战区 口水战 中国 沈阳 指挥官 实弹演习 北京 主席 敏感时期 误判 对话 高层 司令部 沟通 角儿 知事 不靠 朝鲜半岛 媒体 爆发 怒火 炮火 文官 会见 参观 首长 边境 火炮 访问 释放 信号 距离 避免 展开 机制 美朝 防长 下于 问题 意思 双方 军事手段 软蛋 横须贺 板门店 进行 核导弹 五角大楼 首都北京 堆儿 难住 边缘化 削平 釜山 长龙 长安街 理查德 齐射 到访 观摩 试射 先发制人 必败 关岛 火海 开火 方程式 军委 提出 王牌 存在 可取 咆哮 地区 功勋 发现 发生 群山 工事 记者 航母 绰号 太空 功绩 保全 没错 弹道导弹 选项 时说 实话 山头 解开 不能 行程\n"
     ]
    }
   ],
   "source": [
    "tags = jieba.analyse.extract_tags(st1, topK=100, allowPOS=('n', 'v', 'ns'))\n",
    "print(' '.join(tags))\n",
    "# 当前最佳方案，ns好像是专有名词的意思"
   ]
  },
  {
   "cell_type": "code",
   "execution_count": 24,
   "metadata": {},
   "outputs": [
    {
     "name": "stdout",
     "output_type": "stream",
     "text": [
      "朝鲜 美国 军方 危机 解决方案 军事 战区 口水战 中国 沈阳 指挥官 实弹演习 北京 主席 敏感时期 误判 对话 高层 司令部 沟通 角儿 知事 不靠 朝鲜半岛 媒体 爆发 怒火 炮火 文官 会见 参观 首长 边境 火炮 访问 释放 信号 距离 避免 展开 机制 美朝 嘴前 防长 下于 问题 意思 双方 军事手段 软蛋 横须贺 板门店 进行 核导弹 五角大楼 首都北京 堆儿 难住 边缘化 削平 釜山 长龙 长安街 理查德 齐射 到访 观摩 试射 先发制人 必败 关岛 火海 开火 方程式 军委 提出 王牌 存在 可取 咆哮 地区 功勋 发现 身处 发生 群山 工事 记者 航母 绰号 太空 功绩 保全 没错 弹道导弹 选项 时说 实话 山头 解开\n"
     ]
    }
   ],
   "source": [
    "tags = jieba.analyse.extract_tags(st1, topK=100, allowPOS=('n', 'v', 'ns', 's'))\n",
    "print(' '.join(tags))"
   ]
  },
  {
   "cell_type": "code",
   "execution_count": 25,
   "metadata": {},
   "outputs": [
    {
     "name": "stdout",
     "output_type": "stream",
     "text": [
      "朝鲜 美国 军方 危机 解决方案 军事 战区 口水战 中国 沈阳 指挥官 实弹演习 北京 主席 敏感时期 对话 高层 司令部 角儿 朝鲜半岛 媒体 怒火 炮火 文官 会见 参观 首长 边境 火炮 信号 距离 机制 美朝 问题 意思 双方 军事手段 软蛋 横须贺 板门店 核导弹 五角大楼 首都北京 堆儿 边缘化 釜山 长龙 长安街 理查德 先发制人 关岛 火海 方程式 军委 王牌 地区 功勋 群山 工事 记者 航母 绰号 太空 功绩 弹道导弹 选项 时说 山头 行程 现任 舰队 驻地 协商 半岛 司令 军人 二者 军官 韩国 太平洋 交流 首席 战场 身份 办公室 导弹 总统 证明 基地 局面 观点 背景 官员 居民 人物 东北 分析师 战略 部队 状态\n"
     ]
    }
   ],
   "source": [
    "tags = jieba.analyse.extract_tags(st1, topK=100, allowPOS=('n', 'ns'))\n",
    "print(' '.join(tags))\n",
    "# 当前第二好的方案"
   ]
  },
  {
   "cell_type": "code",
   "execution_count": 26,
   "metadata": {},
   "outputs": [
    {
     "name": "stdout",
     "output_type": "stream",
     "text": [
      "误判 沟通 知事 不靠 爆发 访问 释放 避免 展开 防长 下于 进行 难住 削平 齐射 到访 观摩 试射 必败 开火 提出 存在 可取 咆哮 发现 发生 保全 没错 实话 解开\n"
     ]
    }
   ],
   "source": [
    "tags = jieba.analyse.extract_tags(st1, topK=30, allowPOS=('v',))\n",
    "print(' '.join(tags))"
   ]
  },
  {
   "cell_type": "markdown",
   "metadata": {},
   "source": [
    "## 4. Missing data"
   ]
  },
  {
   "cell_type": "code",
   "execution_count": 27,
   "metadata": {},
   "outputs": [
    {
     "data": {
      "text/plain": [
       "原创     11536\n",
       "题目         0\n",
       "评论         0\n",
       "阅读         0\n",
       "日期         0\n",
       "时间         0\n",
       "类别       286\n",
       "URL        0\n",
       "正文      1467\n",
       "标签      1614\n",
       "dtype: int64"
      ]
     },
     "execution_count": 27,
     "metadata": {},
     "output_type": "execute_result"
    }
   ],
   "source": [
    "df.isnull().sum()"
   ]
  },
  {
   "cell_type": "code",
   "execution_count": 28,
   "metadata": {},
   "outputs": [
    {
     "name": "stdout",
     "output_type": "stream",
     "text": [
      "(13140, 10)\n",
      "(11673, 10)\n"
     ]
    },
    {
     "data": {
      "text/html": [
       "<div>\n",
       "<style>\n",
       "    .dataframe thead tr:only-child th {\n",
       "        text-align: right;\n",
       "    }\n",
       "\n",
       "    .dataframe thead th {\n",
       "        text-align: left;\n",
       "    }\n",
       "\n",
       "    .dataframe tbody tr th {\n",
       "        vertical-align: top;\n",
       "    }\n",
       "</style>\n",
       "<table border=\"1\" class=\"dataframe\">\n",
       "  <thead>\n",
       "    <tr style=\"text-align: right;\">\n",
       "      <th></th>\n",
       "      <th>原创</th>\n",
       "      <th>题目</th>\n",
       "      <th>评论</th>\n",
       "      <th>阅读</th>\n",
       "      <th>日期</th>\n",
       "      <th>时间</th>\n",
       "      <th>类别</th>\n",
       "      <th>URL</th>\n",
       "      <th>正文</th>\n",
       "      <th>标签</th>\n",
       "    </tr>\n",
       "  </thead>\n",
       "  <tbody>\n",
       "    <tr>\n",
       "      <th>0</th>\n",
       "      <td>原</td>\n",
       "      <td>一触即发！美国军方一号进沈阳释放强烈信号</td>\n",
       "      <td>1</td>\n",
       "      <td>15720327</td>\n",
       "      <td>2017-08-18</td>\n",
       "      <td>15:38:45</td>\n",
       "      <td>军事</td>\n",
       "      <td>http://www.toutiao.com/a6455515910357647885/</td>\n",
       "      <td>“如果朝鲜问题将出现一种军事解决方案，那绝对是可怕的。”在美朝口水战空前激烈的背景下，美国参...</td>\n",
       "      <td>美国/朝鲜半岛/陆军/Jeep指挥官/</td>\n",
       "    </tr>\n",
       "    <tr>\n",
       "      <th>1</th>\n",
       "      <td>原</td>\n",
       "      <td>印度外交部哀叹，印度没有收到来自中国的洪水数据</td>\n",
       "      <td>31832</td>\n",
       "      <td>6600593</td>\n",
       "      <td>2017-08-19</td>\n",
       "      <td>10:30:13</td>\n",
       "      <td>国际</td>\n",
       "      <td>http://www.toutiao.com/a6455807489534345742/</td>\n",
       "      <td>作者：王德华印度每年6月至9月是季风雨季，雷电暴雨天气频发，洪水及泥石流等灾害经常发生。印度...</td>\n",
       "      <td>布拉马普特拉河/恒河/象泉河/雅鲁藏布江/</td>\n",
       "    </tr>\n",
       "    <tr>\n",
       "      <th>2</th>\n",
       "      <td>原</td>\n",
       "      <td>上任仅仨月他已成南海中国神队友，美国下一个天敌？</td>\n",
       "      <td>211</td>\n",
       "      <td>3133985</td>\n",
       "      <td>2017-08-17</td>\n",
       "      <td>16:02:46</td>\n",
       "      <td>国际</td>\n",
       "      <td>http://www.toutiao.com/a6455151014193398286/</td>\n",
       "      <td>东盟外长会结束一周以后，菲律宾又搞出了一个“大动作”。该国外长宣布，将与中国联合勘探南海。看...</td>\n",
       "      <td>南海/东盟/美国/王毅/</td>\n",
       "    </tr>\n",
       "    <tr>\n",
       "      <th>5</th>\n",
       "      <td>NaN</td>\n",
       "      <td>金正恩身后一张照片，韩国人看得汗毛倒竖</td>\n",
       "      <td>0</td>\n",
       "      <td>3034723</td>\n",
       "      <td>2017-08-17</td>\n",
       "      <td>18:32:44</td>\n",
       "      <td>军事</td>\n",
       "      <td>http://www.toutiao.com/a6455189662217536013/</td>\n",
       "      <td>这是一张含义丰富的照片。”三天前，朝鲜最高领袖金正恩视察战略军司令部，官方发布的照片里赫然出...</td>\n",
       "      <td>金正恩/韩国/舰空导弹/潜地导弹/</td>\n",
       "    </tr>\n",
       "    <tr>\n",
       "      <th>6</th>\n",
       "      <td>原</td>\n",
       "      <td>印军紧急征集骆驼：为印度山地军运输弹药 犯了常识性大错</td>\n",
       "      <td>6902</td>\n",
       "      <td>2903172</td>\n",
       "      <td>2017-08-18</td>\n",
       "      <td>17:55:43</td>\n",
       "      <td>军事</td>\n",
       "      <td>http://www.toutiao.com/a6455551209494282766/</td>\n",
       "      <td>骆驼一直都是一种重要的运输工具，尤其是在古代和近代交通不发达的时代和地区。过去，我军也曾经建...</td>\n",
       "      <td>骆驼/动物/交通/直升机/</td>\n",
       "    </tr>\n",
       "  </tbody>\n",
       "</table>\n",
       "</div>"
      ],
      "text/plain": [
       "    原创                           题目     评论        阅读         日期        时间  类别  \\\n",
       "0    原         一触即发！美国军方一号进沈阳释放强烈信号      1  15720327 2017-08-18  15:38:45  军事   \n",
       "1    原      印度外交部哀叹，印度没有收到来自中国的洪水数据  31832   6600593 2017-08-19  10:30:13  国际   \n",
       "2    原     上任仅仨月他已成南海中国神队友，美国下一个天敌？    211   3133985 2017-08-17  16:02:46  国际   \n",
       "5  NaN          金正恩身后一张照片，韩国人看得汗毛倒竖      0   3034723 2017-08-17  18:32:44  军事   \n",
       "6    原  印军紧急征集骆驼：为印度山地军运输弹药 犯了常识性大错   6902   2903172 2017-08-18  17:55:43  军事   \n",
       "\n",
       "                                            URL  \\\n",
       "0  http://www.toutiao.com/a6455515910357647885/   \n",
       "1  http://www.toutiao.com/a6455807489534345742/   \n",
       "2  http://www.toutiao.com/a6455151014193398286/   \n",
       "5  http://www.toutiao.com/a6455189662217536013/   \n",
       "6  http://www.toutiao.com/a6455551209494282766/   \n",
       "\n",
       "                                                  正文                     标签  \n",
       "0  “如果朝鲜问题将出现一种军事解决方案，那绝对是可怕的。”在美朝口水战空前激烈的背景下，美国参...    美国/朝鲜半岛/陆军/Jeep指挥官/  \n",
       "1  作者：王德华印度每年6月至9月是季风雨季，雷电暴雨天气频发，洪水及泥石流等灾害经常发生。印度...  布拉马普特拉河/恒河/象泉河/雅鲁藏布江/  \n",
       "2  东盟外长会结束一周以后，菲律宾又搞出了一个“大动作”。该国外长宣布，将与中国联合勘探南海。看...           南海/东盟/美国/王毅/  \n",
       "5  这是一张含义丰富的照片。”三天前，朝鲜最高领袖金正恩视察战略军司令部，官方发布的照片里赫然出...      金正恩/韩国/舰空导弹/潜地导弹/  \n",
       "6  骆驼一直都是一种重要的运输工具，尤其是在古代和近代交通不发达的时代和地区。过去，我军也曾经建...          骆驼/动物/交通/直升机/  "
      ]
     },
     "execution_count": 28,
     "metadata": {},
     "output_type": "execute_result"
    }
   ],
   "source": [
    "# df.dropna(subset=['正文'])\n",
    "# df.head().dropna(subset=['正文'])\n",
    "print(df.shape)\n",
    "data_all = df.dropna(subset=['正文'])\n",
    "print(data_all.shape)\n",
    "data_all.head()"
   ]
  },
  {
   "cell_type": "code",
   "execution_count": 29,
   "metadata": {},
   "outputs": [
    {
     "data": {
      "text/html": [
       "<div>\n",
       "<style>\n",
       "    .dataframe thead tr:only-child th {\n",
       "        text-align: right;\n",
       "    }\n",
       "\n",
       "    .dataframe thead th {\n",
       "        text-align: left;\n",
       "    }\n",
       "\n",
       "    .dataframe tbody tr th {\n",
       "        vertical-align: top;\n",
       "    }\n",
       "</style>\n",
       "<table border=\"1\" class=\"dataframe\">\n",
       "  <thead>\n",
       "    <tr style=\"text-align: right;\">\n",
       "      <th></th>\n",
       "      <th>原创</th>\n",
       "      <th>题目</th>\n",
       "      <th>评论</th>\n",
       "      <th>阅读</th>\n",
       "      <th>日期</th>\n",
       "      <th>时间</th>\n",
       "      <th>类别</th>\n",
       "      <th>URL</th>\n",
       "      <th>正文</th>\n",
       "      <th>标签</th>\n",
       "    </tr>\n",
       "  </thead>\n",
       "  <tbody>\n",
       "    <tr>\n",
       "      <th>0</th>\n",
       "      <td>原</td>\n",
       "      <td>一触即发！美国军方一号进沈阳释放强烈信号</td>\n",
       "      <td>1</td>\n",
       "      <td>15720327</td>\n",
       "      <td>2017-08-18</td>\n",
       "      <td>15:38:45</td>\n",
       "      <td>军事</td>\n",
       "      <td>http://www.toutiao.com/a6455515910357647885/</td>\n",
       "      <td>“如果朝鲜问题将出现一种军事解决方案，那绝对是可怕的。”在美朝口水战空前激烈的背景下，美国参...</td>\n",
       "      <td>美国/朝鲜半岛/陆军/Jeep指挥官/</td>\n",
       "    </tr>\n",
       "    <tr>\n",
       "      <th>1</th>\n",
       "      <td>原</td>\n",
       "      <td>印度外交部哀叹，印度没有收到来自中国的洪水数据</td>\n",
       "      <td>31832</td>\n",
       "      <td>6600593</td>\n",
       "      <td>2017-08-19</td>\n",
       "      <td>10:30:13</td>\n",
       "      <td>国际</td>\n",
       "      <td>http://www.toutiao.com/a6455807489534345742/</td>\n",
       "      <td>作者：王德华印度每年6月至9月是季风雨季，雷电暴雨天气频发，洪水及泥石流等灾害经常发生。印度...</td>\n",
       "      <td>布拉马普特拉河/恒河/象泉河/雅鲁藏布江/</td>\n",
       "    </tr>\n",
       "    <tr>\n",
       "      <th>2</th>\n",
       "      <td>原</td>\n",
       "      <td>上任仅仨月他已成南海中国神队友，美国下一个天敌？</td>\n",
       "      <td>211</td>\n",
       "      <td>3133985</td>\n",
       "      <td>2017-08-17</td>\n",
       "      <td>16:02:46</td>\n",
       "      <td>国际</td>\n",
       "      <td>http://www.toutiao.com/a6455151014193398286/</td>\n",
       "      <td>东盟外长会结束一周以后，菲律宾又搞出了一个“大动作”。该国外长宣布，将与中国联合勘探南海。看...</td>\n",
       "      <td>南海/东盟/美国/王毅/</td>\n",
       "    </tr>\n",
       "    <tr>\n",
       "      <th>5</th>\n",
       "      <td>NaN</td>\n",
       "      <td>金正恩身后一张照片，韩国人看得汗毛倒竖</td>\n",
       "      <td>0</td>\n",
       "      <td>3034723</td>\n",
       "      <td>2017-08-17</td>\n",
       "      <td>18:32:44</td>\n",
       "      <td>军事</td>\n",
       "      <td>http://www.toutiao.com/a6455189662217536013/</td>\n",
       "      <td>这是一张含义丰富的照片。”三天前，朝鲜最高领袖金正恩视察战略军司令部，官方发布的照片里赫然出...</td>\n",
       "      <td>金正恩/韩国/舰空导弹/潜地导弹/</td>\n",
       "    </tr>\n",
       "    <tr>\n",
       "      <th>6</th>\n",
       "      <td>原</td>\n",
       "      <td>印军紧急征集骆驼：为印度山地军运输弹药 犯了常识性大错</td>\n",
       "      <td>6902</td>\n",
       "      <td>2903172</td>\n",
       "      <td>2017-08-18</td>\n",
       "      <td>17:55:43</td>\n",
       "      <td>军事</td>\n",
       "      <td>http://www.toutiao.com/a6455551209494282766/</td>\n",
       "      <td>骆驼一直都是一种重要的运输工具，尤其是在古代和近代交通不发达的时代和地区。过去，我军也曾经建...</td>\n",
       "      <td>骆驼/动物/交通/直升机/</td>\n",
       "    </tr>\n",
       "  </tbody>\n",
       "</table>\n",
       "</div>"
      ],
      "text/plain": [
       "    原创                           题目     评论        阅读         日期        时间  类别  \\\n",
       "0    原         一触即发！美国军方一号进沈阳释放强烈信号      1  15720327 2017-08-18  15:38:45  军事   \n",
       "1    原      印度外交部哀叹，印度没有收到来自中国的洪水数据  31832   6600593 2017-08-19  10:30:13  国际   \n",
       "2    原     上任仅仨月他已成南海中国神队友，美国下一个天敌？    211   3133985 2017-08-17  16:02:46  国际   \n",
       "5  NaN          金正恩身后一张照片，韩国人看得汗毛倒竖      0   3034723 2017-08-17  18:32:44  军事   \n",
       "6    原  印军紧急征集骆驼：为印度山地军运输弹药 犯了常识性大错   6902   2903172 2017-08-18  17:55:43  军事   \n",
       "\n",
       "                                            URL  \\\n",
       "0  http://www.toutiao.com/a6455515910357647885/   \n",
       "1  http://www.toutiao.com/a6455807489534345742/   \n",
       "2  http://www.toutiao.com/a6455151014193398286/   \n",
       "5  http://www.toutiao.com/a6455189662217536013/   \n",
       "6  http://www.toutiao.com/a6455551209494282766/   \n",
       "\n",
       "                                                  正文                     标签  \n",
       "0  “如果朝鲜问题将出现一种军事解决方案，那绝对是可怕的。”在美朝口水战空前激烈的背景下，美国参...    美国/朝鲜半岛/陆军/Jeep指挥官/  \n",
       "1  作者：王德华印度每年6月至9月是季风雨季，雷电暴雨天气频发，洪水及泥石流等灾害经常发生。印度...  布拉马普特拉河/恒河/象泉河/雅鲁藏布江/  \n",
       "2  东盟外长会结束一周以后，菲律宾又搞出了一个“大动作”。该国外长宣布，将与中国联合勘探南海。看...           南海/东盟/美国/王毅/  \n",
       "5  这是一张含义丰富的照片。”三天前，朝鲜最高领袖金正恩视察战略军司令部，官方发布的照片里赫然出...      金正恩/韩国/舰空导弹/潜地导弹/  \n",
       "6  骆驼一直都是一种重要的运输工具，尤其是在古代和近代交通不发达的时代和地区。过去，我军也曾经建...          骆驼/动物/交通/直升机/  "
      ]
     },
     "execution_count": 29,
     "metadata": {},
     "output_type": "execute_result"
    }
   ],
   "source": [
    "data_all.sort_values(['阅读'], ascending=False)\n",
    "data_all.head()"
   ]
  },
  {
   "cell_type": "code",
   "execution_count": 30,
   "metadata": {},
   "outputs": [
    {
     "data": {
      "text/html": [
       "<div>\n",
       "<style>\n",
       "    .dataframe thead tr:only-child th {\n",
       "        text-align: right;\n",
       "    }\n",
       "\n",
       "    .dataframe thead th {\n",
       "        text-align: left;\n",
       "    }\n",
       "\n",
       "    .dataframe tbody tr th {\n",
       "        vertical-align: top;\n",
       "    }\n",
       "</style>\n",
       "<table border=\"1\" class=\"dataframe\">\n",
       "  <thead>\n",
       "    <tr style=\"text-align: right;\">\n",
       "      <th></th>\n",
       "      <th>原创</th>\n",
       "      <th>题目</th>\n",
       "      <th>评论</th>\n",
       "      <th>阅读</th>\n",
       "      <th>日期</th>\n",
       "      <th>时间</th>\n",
       "      <th>类别</th>\n",
       "      <th>URL</th>\n",
       "      <th>正文</th>\n",
       "      <th>标签</th>\n",
       "    </tr>\n",
       "  </thead>\n",
       "  <tbody>\n",
       "    <tr>\n",
       "      <th>7</th>\n",
       "      <td>NaN</td>\n",
       "      <td>持刀砍蔡英文卫兵者称要表达“统一”立场 名嘴：想起荆轲刺秦王</td>\n",
       "      <td>15525</td>\n",
       "      <td>2807838</td>\n",
       "      <td>2017-08-19</td>\n",
       "      <td>10:01:31</td>\n",
       "      <td>NaN</td>\n",
       "      <td>http://www.toutiao.com/a6455787475511017998/</td>\n",
       "      <td>（原标题：军刀砍向蔡办 绿色政治仇恨造就的“荆轲刺秦王”？）警方18日侦讯从台军历史文物馆偷...</td>\n",
       "      <td>台湾/日本/政治/文章/</td>\n",
       "    </tr>\n",
       "    <tr>\n",
       "      <th>8</th>\n",
       "      <td>原</td>\n",
       "      <td>“太子辉”在酒店有专房接受性服务 觉得好会多给钱</td>\n",
       "      <td>7072</td>\n",
       "      <td>2717138</td>\n",
       "      <td>2017-08-17</td>\n",
       "      <td>22:02:44</td>\n",
       "      <td>社会</td>\n",
       "      <td>http://www.toutiao.com/a6455243777832387086/</td>\n",
       "      <td>西楚网讯 备受关注的东莞太子酒店老板梁耀辉等人组织卖淫罪案近日一审宣判，梁耀辉被判无期徒刑。...</td>\n",
       "      <td>梁耀辉/酒店/桑拿/法律/</td>\n",
       "    </tr>\n",
       "    <tr>\n",
       "      <th>9</th>\n",
       "      <td>原</td>\n",
       "      <td>解放战争毛主席最看重这个地区，蒋介石犯一生中最大错误痛失此地</td>\n",
       "      <td>621</td>\n",
       "      <td>2701095</td>\n",
       "      <td>2017-08-17</td>\n",
       "      <td>12:43:17</td>\n",
       "      <td>历史</td>\n",
       "      <td>http://www.toutiao.com/a6455081073033347598/</td>\n",
       "      <td>文｜ 李崇寒1945年8月9日零时10分，苏联百万红军越过中苏、中蒙边境，向日本关东军发起猛...</td>\n",
       "      <td>中国近代史/蒋介石/林彪/军事历史/</td>\n",
       "    </tr>\n",
       "    <tr>\n",
       "      <th>10</th>\n",
       "      <td>原</td>\n",
       "      <td>女大学生昆明旅游被打头缝6针，自称不知道为啥会被打</td>\n",
       "      <td>4690</td>\n",
       "      <td>2672324</td>\n",
       "      <td>2017-08-18</td>\n",
       "      <td>17:10:46</td>\n",
       "      <td>社会</td>\n",
       "      <td>http://www.toutiao.com/a6455539622867894797/</td>\n",
       "      <td>8月18日，一个名为“Ophelia之死”的网友在微博上爆料，称其8月17日在昆明旅游时遇袭...</td>\n",
       "      <td>交通/社会/</td>\n",
       "    </tr>\n",
       "    <tr>\n",
       "      <th>11</th>\n",
       "      <td>原</td>\n",
       "      <td>军方证实：首艘《战狼2》同款入列东海舰队</td>\n",
       "      <td>3327</td>\n",
       "      <td>2599285</td>\n",
       "      <td>2017-08-17</td>\n",
       "      <td>23:54:23</td>\n",
       "      <td>军事</td>\n",
       "      <td>http://www.toutiao.com/a6455272550829130253/</td>\n",
       "      <td>法制晚报·看法新闻（记者 李文姬 编辑 岳三猛）《解放军报》今日刊文《导弹飞来不会数你肩上的...</td>\n",
       "      <td>海军/驱逐舰/航母/武器/</td>\n",
       "    </tr>\n",
       "  </tbody>\n",
       "</table>\n",
       "</div>"
      ],
      "text/plain": [
       "     原创                              题目     评论       阅读         日期        时间  \\\n",
       "7   NaN  持刀砍蔡英文卫兵者称要表达“统一”立场 名嘴：想起荆轲刺秦王  15525  2807838 2017-08-19  10:01:31   \n",
       "8     原        “太子辉”在酒店有专房接受性服务 觉得好会多给钱   7072  2717138 2017-08-17  22:02:44   \n",
       "9     原  解放战争毛主席最看重这个地区，蒋介石犯一生中最大错误痛失此地    621  2701095 2017-08-17  12:43:17   \n",
       "10    原       女大学生昆明旅游被打头缝6针，自称不知道为啥会被打   4690  2672324 2017-08-18  17:10:46   \n",
       "11    原            军方证实：首艘《战狼2》同款入列东海舰队   3327  2599285 2017-08-17  23:54:23   \n",
       "\n",
       "     类别                                           URL  \\\n",
       "7   NaN  http://www.toutiao.com/a6455787475511017998/   \n",
       "8    社会  http://www.toutiao.com/a6455243777832387086/   \n",
       "9    历史  http://www.toutiao.com/a6455081073033347598/   \n",
       "10   社会  http://www.toutiao.com/a6455539622867894797/   \n",
       "11   军事  http://www.toutiao.com/a6455272550829130253/   \n",
       "\n",
       "                                                   正文                  标签  \n",
       "7   （原标题：军刀砍向蔡办 绿色政治仇恨造就的“荆轲刺秦王”？）警方18日侦讯从台军历史文物馆偷...        台湾/日本/政治/文章/  \n",
       "8   西楚网讯 备受关注的东莞太子酒店老板梁耀辉等人组织卖淫罪案近日一审宣判，梁耀辉被判无期徒刑。...       梁耀辉/酒店/桑拿/法律/  \n",
       "9   文｜ 李崇寒1945年8月9日零时10分，苏联百万红军越过中苏、中蒙边境，向日本关东军发起猛...  中国近代史/蒋介石/林彪/军事历史/  \n",
       "10  8月18日，一个名为“Ophelia之死”的网友在微博上爆料，称其8月17日在昆明旅游时遇袭...              交通/社会/  \n",
       "11  法制晚报·看法新闻（记者 李文姬 编辑 岳三猛）《解放军报》今日刊文《导弹飞来不会数你肩上的...       海军/驱逐舰/航母/武器/  "
      ]
     },
     "execution_count": 30,
     "metadata": {},
     "output_type": "execute_result"
    }
   ],
   "source": [
    "data_all.iloc[5:10,:]"
   ]
  },
  {
   "cell_type": "code",
   "execution_count": 31,
   "metadata": {},
   "outputs": [
    {
     "data": {
      "text/html": [
       "<div>\n",
       "<style>\n",
       "    .dataframe thead tr:only-child th {\n",
       "        text-align: right;\n",
       "    }\n",
       "\n",
       "    .dataframe thead th {\n",
       "        text-align: left;\n",
       "    }\n",
       "\n",
       "    .dataframe tbody tr th {\n",
       "        vertical-align: top;\n",
       "    }\n",
       "</style>\n",
       "<table border=\"1\" class=\"dataframe\">\n",
       "  <thead>\n",
       "    <tr style=\"text-align: right;\">\n",
       "      <th></th>\n",
       "      <th>原创</th>\n",
       "      <th>题目</th>\n",
       "      <th>评论</th>\n",
       "      <th>阅读</th>\n",
       "      <th>日期</th>\n",
       "      <th>时间</th>\n",
       "      <th>类别</th>\n",
       "      <th>URL</th>\n",
       "      <th>正文</th>\n",
       "      <th>标签</th>\n",
       "    </tr>\n",
       "  </thead>\n",
       "  <tbody>\n",
       "    <tr>\n",
       "      <th>12399</th>\n",
       "      <td>NaN</td>\n",
       "      <td>实拍俄罗斯富人的悠闲生活，三亚和越南的海滩都有他们的身影</td>\n",
       "      <td>43</td>\n",
       "      <td>333541</td>\n",
       "      <td>2017-09-14</td>\n",
       "      <td>20:36:49</td>\n",
       "      <td>旅游</td>\n",
       "      <td>http://www.toutiao.com/a6465612023345447438/</td>\n",
       "      <td>俄罗斯富人挺懂得享受的，什么游艇、私人飞机、豪华别墅和兰博基尼跑车已经成为标配。不仅如此，这...</td>\n",
       "      <td>黑海/游艇/兰博基尼/跑车/</td>\n",
       "    </tr>\n",
       "    <tr>\n",
       "      <th>12400</th>\n",
       "      <td>NaN</td>\n",
       "      <td>顺产时必须经历的7张图，太尴尬了，这种滋味孕妇终身难忘</td>\n",
       "      <td>503</td>\n",
       "      <td>333354</td>\n",
       "      <td>2017-09-13</td>\n",
       "      <td>13:14:52</td>\n",
       "      <td>育儿</td>\n",
       "      <td>http://www.toutiao.com/a6465126966654665229/</td>\n",
       "      <td>昨天去看望了刚生完宝宝的红红。一见到我，红红就拉着我说：“你知道我昨天怎么生不如死吗？太尴尬...</td>\n",
       "      <td>分娩/产后护理/孕产/育儿/</td>\n",
       "    </tr>\n",
       "    <tr>\n",
       "      <th>12401</th>\n",
       "      <td>NaN</td>\n",
       "      <td>46岁孙悦全家近照，一首祝你平安出名，长的丑却没想嫁的那么好</td>\n",
       "      <td>159</td>\n",
       "      <td>332344</td>\n",
       "      <td>2017-09-13</td>\n",
       "      <td>13:08:45</td>\n",
       "      <td>娱乐</td>\n",
       "      <td>http://www.toutiao.com/a6463394555474477582/</td>\n",
       "      <td>祝你平安~祝你平安~，只要是听到这歌词、歌曲总是能够顺口的哼起来，这首孙悦的《祝你平安》当年...</td>\n",
       "      <td>孙悦/韩国/婚姻/李湘/</td>\n",
       "    </tr>\n",
       "    <tr>\n",
       "      <th>12403</th>\n",
       "      <td>NaN</td>\n",
       "      <td>单场丢9球的前国门29岁便无奈退役，如今他在卖樱桃！</td>\n",
       "      <td>316</td>\n",
       "      <td>332085</td>\n",
       "      <td>2017-09-15</td>\n",
       "      <td>09:50:40</td>\n",
       "      <td>体育</td>\n",
       "      <td>http://www.toutiao.com/a6465816595636683278/</td>\n",
       "      <td>当37岁的郑智依然在亚冠赛场上打满120分钟并上演人球分过的好戏时，比他还年轻一两岁的“超白...</td>\n",
       "      <td>中国男足/安琦/中甲/足球/</td>\n",
       "    </tr>\n",
       "    <tr>\n",
       "      <th>12404</th>\n",
       "      <td>NaN</td>\n",
       "      <td>国产最牛的柴油发动机品牌，一点也不比进口的差</td>\n",
       "      <td>996</td>\n",
       "      <td>331771</td>\n",
       "      <td>2017-09-13</td>\n",
       "      <td>16:31:58</td>\n",
       "      <td>汽车</td>\n",
       "      <td>http://www.toutiao.com/a6465177841351787021/</td>\n",
       "      <td>柴油发动机是燃烧柴油来获取能量释放的发动机。其最大的优点就是功率大、经济性能好。柴油发动机的...</td>\n",
       "      <td>国产车/中国一汽/潍柴动力/环境保护/</td>\n",
       "    </tr>\n",
       "  </tbody>\n",
       "</table>\n",
       "</div>"
      ],
      "text/plain": [
       "        原创                              题目   评论      阅读         日期        时间  \\\n",
       "12399  NaN    实拍俄罗斯富人的悠闲生活，三亚和越南的海滩都有他们的身影   43  333541 2017-09-14  20:36:49   \n",
       "12400  NaN     顺产时必须经历的7张图，太尴尬了，这种滋味孕妇终身难忘  503  333354 2017-09-13  13:14:52   \n",
       "12401  NaN  46岁孙悦全家近照，一首祝你平安出名，长的丑却没想嫁的那么好  159  332344 2017-09-13  13:08:45   \n",
       "12403  NaN      单场丢9球的前国门29岁便无奈退役，如今他在卖樱桃！  316  332085 2017-09-15  09:50:40   \n",
       "12404  NaN          国产最牛的柴油发动机品牌，一点也不比进口的差  996  331771 2017-09-13  16:31:58   \n",
       "\n",
       "       类别                                           URL  \\\n",
       "12399  旅游  http://www.toutiao.com/a6465612023345447438/   \n",
       "12400  育儿  http://www.toutiao.com/a6465126966654665229/   \n",
       "12401  娱乐  http://www.toutiao.com/a6463394555474477582/   \n",
       "12403  体育  http://www.toutiao.com/a6465816595636683278/   \n",
       "12404  汽车  http://www.toutiao.com/a6465177841351787021/   \n",
       "\n",
       "                                                      正文                   标签  \n",
       "12399  俄罗斯富人挺懂得享受的，什么游艇、私人飞机、豪华别墅和兰博基尼跑车已经成为标配。不仅如此，这...       黑海/游艇/兰博基尼/跑车/  \n",
       "12400  昨天去看望了刚生完宝宝的红红。一见到我，红红就拉着我说：“你知道我昨天怎么生不如死吗？太尴尬...       分娩/产后护理/孕产/育儿/  \n",
       "12401  祝你平安~祝你平安~，只要是听到这歌词、歌曲总是能够顺口的哼起来，这首孙悦的《祝你平安》当年...         孙悦/韩国/婚姻/李湘/  \n",
       "12403  当37岁的郑智依然在亚冠赛场上打满120分钟并上演人球分过的好戏时，比他还年轻一两岁的“超白...       中国男足/安琦/中甲/足球/  \n",
       "12404  柴油发动机是燃烧柴油来获取能量释放的发动机。其最大的优点就是功率大、经济性能好。柴油发动机的...  国产车/中国一汽/潍柴动力/环境保护/  "
      ]
     },
     "execution_count": 31,
     "metadata": {},
     "output_type": "execute_result"
    }
   ],
   "source": [
    "data_all.iloc[10995:11000,:]"
   ]
  },
  {
   "cell_type": "markdown",
   "metadata": {},
   "source": [
    "## 5. Get word distributions"
   ]
  },
  {
   "cell_type": "code",
   "execution_count": 32,
   "metadata": {},
   "outputs": [
    {
     "data": {
      "text/plain": [
       "847"
      ]
     },
     "execution_count": 32,
     "metadata": {},
     "output_type": "execute_result"
    }
   ],
   "source": [
    "data1 = data_all.loc[0:1000,'正文'].tolist()\n",
    "len(data1)"
   ]
  },
  {
   "cell_type": "code",
   "execution_count": 33,
   "metadata": {},
   "outputs": [
    {
     "name": "stdout",
     "output_type": "stream",
     "text": [
      "“如果朝鲜问题将出现一种军事解决方案，那绝对是可怕的。”在美朝口水战空前激烈的背景下，美国参谋长联席会议主席约瑟夫·邓福德，近日访问了北部战区司令部驻地沈阳和首都北京。长安街知事App发现，这是美军高层首次参观能近距离监控中朝边境的地区。敏感时期，中国将美国军方一号人物请到沈阳，释放了强烈的信号。真正狠角儿不靠嘴前有二战功勋“五星上将”布莱德雷，后有“太空司令”理查德·迈尔斯——作为美国军方“首长堆儿里的首长”，参联会主席从来不是“软蛋”，现任主席约瑟夫·邓福德更因为在战场上的功绩得到“Fighting Joe，战斗乔”的绰号。不过，正因为军人的身份，美国军方的指挥官们，比五角大楼和白宫的文官说话更靠谱。昨天，邓福德结束了访问解放军北部战区和北京的行程。美联社说，邓福德在北京会见中国军方高层时表达了这样一层意思：如果朝鲜问题将出现一种军事解决方案，那绝对是可怕的，这一点毋庸置疑。“我的意思是，我们有必要制定有效的沟通机制，这样一来，一旦爆发危机，我们能够立即进行对话，避免误判和加剧危机。”有意思的是，邓福德的说法，与美国总统特朗普和防长马蒂斯截然相反，二者曾分别在办公室里向记者咆哮“朝鲜将面临前所未有的炮火与怒火”“一旦美军对朝开展，朝鲜必败”等等。这被媒体广泛解读为，口水战。然而，真正的狠角儿不靠嘴。《华尔街日报》透露，早在特朗普与金正恩口水战升温之前，邓福德的访华计划就已制订。指挥官们“怕”什么？“美国希望金正恩同意实现朝鲜无核化并停止试射导弹。”邓福德在北京说，这是更可取的最终状态。那么，美国指挥官们“怕”什么呢？班农，白宫中少数与军方持相同观点的文官说了实话。这位正逐渐被边缘化的特朗普首席战略分析师说，“对朝鲜，美国不存在军事解决方案，忘了它吧。在有人解开这部分方程式，向我证明首尔的1000万人不会在头30分钟死于常规武器之前，我不知道你在谈论的是什么，这里根本不存在军事解决方案，他们难住了我们。”没错，知事早先分析过，朝鲜真正的王牌并不是那些有的没的核导弹，而是隐藏在三八线群山地下工事中的近千门火炮。一旦朝鲜拼命，这些火炮一轮齐射，就可让距离三八线仅45公里的首尔，瞬间回到30年前，1000多万居民身处火海。美国太平洋舰队司令部有多少航母舰载机，关岛、釜山、横须贺基地有多少弹道导弹，能“先发制人”削平板门店附近的山头呢？如果不能保全首尔，那么特朗普的炮火，瞬间就会转化为韩国人的怒火。一旦开火，中美怎么办？与到访北京同样受关注的是，邓福德访华之旅还有重要一站，沈阳——解放军北部战区司令部。美国媒体称，这是中国距离朝鲜最近的战区。《华尔街日报》称，美国高层军官几乎从未参观过，能近距离监控中朝边境的地区。中国在敏感时期将美国军方一号请到这里意味着什么？美国人给出的解释是，这似乎表明，朝鲜的威胁越来越大，中国也和美国一样担心。16日，邓福德还在沈阳观看了陆军某“合成旅”的实弹演习，这是在中国军改下于近几个月组建的新军事单位之一，位于中国东北的部队旨在应对包括美国军事打击在内的潜在朝鲜危机。美国军方官员称，邓福德观摩实弹演习之后，似乎并没有发现任何可能用于朝鲜危机的特殊能力。那么，一旦半岛生战，中美会怎么办？美国媒体称，中国长期以来一直拒绝美国提出的双方进行磋商沟通的请求。美国提出中美进行磋商，防止一旦爆发朝鲜危机，美国和中国的行动产生冲突。而此次美中之间展开的新讨论显示中国的想法发生转变。邓福德对记者说，围绕朝鲜半岛潜在危机可能局面的初步对话应在危机爆发前展开。“两国军方建立有效的沟通机制是有帮助的，一旦发生危机，双方可以立即交流，从而避免误判并加深危机。”而这也是中国向美方释放出的强烈信号。根据中国国防部发布的消息，军委副主席范长龙在北京会见邓福德时说，对话协商是解决朝鲜半岛问题的唯一有效途径，军事手段不能成为选项。\n"
     ]
    },
    {
     "data": {
      "text/plain": [
       "1000"
      ]
     },
     "execution_count": 33,
     "metadata": {},
     "output_type": "execute_result"
    }
   ],
   "source": [
    "data_size = 1000\n",
    "data1 = data_all.iloc[0:data_size,8].tolist()\n",
    "print(data1[0])\n",
    "len(data1)"
   ]
  },
  {
   "cell_type": "code",
   "execution_count": 34,
   "metadata": {},
   "outputs": [
    {
     "data": {
      "text/plain": [
       "1000"
      ]
     },
     "execution_count": 34,
     "metadata": {},
     "output_type": "execute_result"
    }
   ],
   "source": [
    "data2 = data_all.iloc[10000:10000+data_size,8].tolist()\n",
    "len(data2)"
   ]
  },
  {
   "cell_type": "code",
   "execution_count": 35,
   "metadata": {},
   "outputs": [
    {
     "data": {
      "text/plain": [
       "[1000, 1000]"
      ]
     },
     "execution_count": 35,
     "metadata": {},
     "output_type": "execute_result"
    }
   ],
   "source": [
    "data = [data1, data2]\n",
    "[len(datum) for datum in data]"
   ]
  },
  {
   "cell_type": "code",
   "execution_count": 36,
   "metadata": {
    "collapsed": true
   },
   "outputs": [],
   "source": [
    "def clean_post(post):\n",
    "    st1 = post.translate(table)\n",
    "    # 替换掉字符串中的所有character，用正则表达式的话要用\\连起来，表示或\n",
    "    st1 = re.sub(\"\\d\", \" \", st1)\n",
    "    # filter_seg=filter(lambda x: x not in my_stopset and len(x.strip())>0, jieba.cut(st1))\n",
    "    # data_tokenized = ' '.join(filter_seg)\n",
    "    # tags = jieba.analyse.extract_tags(st1, topK=100, allowPOS=('n', 'v', 'ns'))\n",
    "    tags = jieba.analyse.extract_tags(st1, topK=100, allowPOS=('n', 'ns'))\n",
    "    clean = ' '.join(tags)\n",
    "    # print('clean...\\r')\n",
    "    return clean"
   ]
  },
  {
   "cell_type": "code",
   "execution_count": 37,
   "metadata": {},
   "outputs": [
    {
     "name": "stdout",
     "output_type": "stream",
     "text": [
      "2.585452930132548\n"
     ]
    },
    {
     "data": {
      "text/plain": [
       "'朝鲜 美国 军方 危机 解决方案 军事 战区 口水战 中国 沈阳 指挥官 实弹演习 北京 主席 敏感时期 对话 高层 司令部 角儿 朝鲜半岛 媒体 怒火 炮火 文官 会见 参观 首长 边境 火炮 信号 距离 机制 美朝 问题 意思 双方 军事手段 软蛋 横须贺 板门店 核导弹 五角大楼 首都北京 堆儿 边缘化 釜山 长龙 长安街 理查德 先发制人 关岛 火海 方程式 军委 王牌 地区 功勋 群山 工事 记者 航母 绰号 太空 功绩 弹道导弹 选项 时说 山头 行程 现任 舰队 驻地 协商 半岛 司令 军人 二者 军官 韩国 太平洋 交流 首席 战场 身份 办公室 导弹 总统 证明 基地 局面 观点 背景 官员 居民 人物 东北 分析师 战略 部队 状态'"
      ]
     },
     "execution_count": 37,
     "metadata": {},
     "output_type": "execute_result"
    }
   ],
   "source": [
    "import time\n",
    "t_start = time.time()\n",
    "data_tokenized = [[clean_post(article) for article in datum] for datum in data]\n",
    "t_end = time.time()\n",
    "elapsed_time = float(t_end - t_start)/60\n",
    "print(elapsed_time)\n",
    "data_tokenized[0][0]"
   ]
  },
  {
   "cell_type": "code",
   "execution_count": 38,
   "metadata": {
    "collapsed": true
   },
   "outputs": [],
   "source": [
    "from sklearn.feature_extraction.text import CountVectorizer"
   ]
  },
  {
   "cell_type": "code",
   "execution_count": 39,
   "metadata": {
    "collapsed": true
   },
   "outputs": [],
   "source": [
    "import numpy as np\n",
    "\n",
    "freqs_list = []\n",
    "for datum in data_tokenized:\n",
    "    vectorizer = CountVectorizer(analyzer = \"word\", tokenizer = None,    \n",
    "                                 preprocessor = None, stop_words = None, \n",
    "                                 max_features = 100)\n",
    "    this_bow = vectorizer.fit_transform(datum)\n",
    "    this_bow_array = this_bow.toarray()\n",
    "    vocabulary = vectorizer.get_feature_names()\n",
    "    counts = np.sum(this_bow_array, axis = 0)\n",
    "    top_words = pd.DataFrame({'word': vocabulary, 'count': counts}).sort_values(by = 'count', ascending = False)\n",
    "    top_series = top_words['count']\n",
    "    top_series.index = top_words['word']\n",
    "    freqs_list.append(top_series)"
   ]
  },
  {
   "cell_type": "code",
   "execution_count": 40,
   "metadata": {
    "collapsed": true
   },
   "outputs": [],
   "source": [
    "# rel_freq_list = [f / f.sum() for f in freqs_list]\n",
    "rel_freq_list = [f for f in freqs_list]"
   ]
  },
  {
   "cell_type": "code",
   "execution_count": 41,
   "metadata": {},
   "outputs": [
    {
     "name": "stdout",
     "output_type": "stream",
     "text": [
      "2\n"
     ]
    },
    {
     "data": {
      "text/plain": [
       "word\n",
       "时候     401\n",
       "中国     289\n",
       "大家     237\n",
       "问题     219\n",
       "时间     205\n",
       "孩子     204\n",
       "事情     163\n",
       "世界     153\n",
       "网友     150\n",
       "感觉     147\n",
       "情况     143\n",
       "美国     142\n",
       "女人     141\n",
       "国家     141\n",
       "男人     133\n",
       "原因     129\n",
       "朋友     128\n",
       "方面     121\n",
       "东西     114\n",
       "关系     112\n",
       "地方     112\n",
       "媒体     111\n",
       "儿子     111\n",
       "身体     108\n",
       "结果     101\n",
       "无法     100\n",
       "女儿      99\n",
       "家庭      99\n",
       "有点      98\n",
       "能力      98\n",
       "      ... \n",
       "公众      60\n",
       "爱情      60\n",
       "样子      59\n",
       "节目      59\n",
       "个人      59\n",
       "城市      59\n",
       "名字      59\n",
       "俄罗斯     58\n",
       "家人      58\n",
       "对方      58\n",
       "状态      57\n",
       "军事      57\n",
       "大量      56\n",
       "衣服      55\n",
       "联系      54\n",
       "年龄      54\n",
       "社会      54\n",
       "武器      54\n",
       "事业      54\n",
       "基本      54\n",
       "医生      54\n",
       "文章      53\n",
       "实力      53\n",
       "产生      53\n",
       "双方      53\n",
       "角色      53\n",
       "全球      53\n",
       "房子      52\n",
       "大学      51\n",
       "速度      51\n",
       "Name: count, Length: 100, dtype: int64"
      ]
     },
     "execution_count": 41,
     "metadata": {},
     "output_type": "execute_result"
    }
   ],
   "source": [
    "print(len(rel_freq_list))\n",
    "rel_freq_list[0]"
   ]
  },
  {
   "cell_type": "code",
   "execution_count": 42,
   "metadata": {},
   "outputs": [
    {
     "data": {
      "text/plain": [
       "word\n",
       "时候     382\n",
       "大家     282\n",
       "中国     230\n",
       "网友     208\n",
       "时间     205\n",
       "问题     201\n",
       "孩子     188\n",
       "事情     182\n",
       "感觉     157\n",
       "情况     157\n",
       "国家     145\n",
       "女人     134\n",
       "世界     133\n",
       "朋友     130\n",
       "关系     120\n",
       "结果     118\n",
       "有点     113\n",
       "原因     111\n",
       "方面     110\n",
       "男人     109\n",
       "美国     108\n",
       "娱乐圈    102\n",
       "地方     101\n",
       "媒体      98\n",
       "身体      98\n",
       "感情      97\n",
       "女儿      94\n",
       "儿子      93\n",
       "无法      93\n",
       "回家      91\n",
       "      ... \n",
       "人生      60\n",
       "全部      60\n",
       "父亲      58\n",
       "社会      58\n",
       "样子      58\n",
       "个人      58\n",
       "医生      58\n",
       "文章      57\n",
       "技术      57\n",
       "形象      56\n",
       "国际      56\n",
       "经济      56\n",
       "家人      55\n",
       "人家      55\n",
       "条件      55\n",
       "产生      55\n",
       "名字      55\n",
       "全球      54\n",
       "方法      54\n",
       "房子      54\n",
       "电视剧     53\n",
       "时代      53\n",
       "大量      53\n",
       "实力      52\n",
       "角色      52\n",
       "爱情      51\n",
       "事业      51\n",
       "企业      51\n",
       "农村      51\n",
       "效果      51\n",
       "Name: count, Length: 100, dtype: int64"
      ]
     },
     "execution_count": 42,
     "metadata": {},
     "output_type": "execute_result"
    }
   ],
   "source": [
    "rel_freq_list[1]"
   ]
  },
  {
   "cell_type": "code",
   "execution_count": 43,
   "metadata": {
    "collapsed": true
   },
   "outputs": [],
   "source": [
    "all_names = ['high', 'low']\n",
    "%matplotlib inline\n",
    "# % means calling a special function\n",
    "import matplotlib.pyplot as plt\n",
    "%config InlineBackend.figure_format='retina'"
   ]
  },
  {
   "cell_type": "code",
   "execution_count": 44,
   "metadata": {},
   "outputs": [
    {
     "data": {
      "text/plain": [
       "['DejaVu Sans',\n",
       " 'Bitstream Vera Sans',\n",
       " 'Computer Modern Sans Serif',\n",
       " 'Lucida Grande',\n",
       " 'Verdana',\n",
       " 'Geneva',\n",
       " 'Lucid',\n",
       " 'Arial',\n",
       " 'Helvetica',\n",
       " 'Avant Garde',\n",
       " 'sans-serif']"
      ]
     },
     "execution_count": 44,
     "metadata": {},
     "output_type": "execute_result"
    }
   ],
   "source": [
    "plt.rcParams['font.sans-serif']"
   ]
  },
  {
   "cell_type": "code",
   "execution_count": 45,
   "metadata": {
    "collapsed": true
   },
   "outputs": [],
   "source": [
    "plt.rcParams['font.sans-serif'] = ['SimHei']"
   ]
  },
  {
   "cell_type": "code",
   "execution_count": 66,
   "metadata": {},
   "outputs": [
    {
     "data": {
      "image/png": "[encoded data removed]",
      "text/plain": [
       "<matplotlib.figure.Figure at 0x11bb42ac8>"
      ]
     },
     "metadata": {
      "image/png": {
       "height": 466,
       "width": 713
      }
     },
     "output_type": "display_data"
    }
   ],
   "source": [
    "fig, axes = plt.subplots(3, 1, sharex = False, sharey = True, figsize = (12, 8))\n",
    "cnt = 0\n",
    "rel_freq_list[cnt][:5].plot.bar(ax = axes[0])\n",
    "axes[0].set_xticklabels(rel_freq_list[cnt][:5].index.tolist(), rotation = 0, fontsize = 12)\n",
    "axes[0].set_xlabel(\"\", fontsize = 12)\n",
    "axes[0].text(0.5, 0.915, all_names[cnt], fontweight = \"bold\", fontsize = 14, \n",
    "                            horizontalalignment = 'center', transform = axes[0].transAxes)\n",
    "cnt=1\n",
    "rel_freq_list[cnt][:5].plot.bar(ax = axes[1])\n",
    "axes[1].set_xticklabels(rel_freq_list[cnt][:5].index.tolist(), rotation = 0, fontsize = 12)\n",
    "axes[1].set_xlabel(\"\", fontsize = 12)\n",
    "axes[1].text(0.5, 0.915, all_names[cnt], fontweight = \"bold\", fontsize = 14, \n",
    "                            horizontalalignment = 'center', transform = axes[1].transAxes)\n",
    "axes[2].axis('off')\n",
    "# print('\\r')\n",
    "temp2 = 0"
   ]
  },
  {
   "cell_type": "markdown",
   "metadata": {},
   "source": [
    "## 6. Word tf-idf"
   ]
  },
  {
   "cell_type": "code",
   "execution_count": 46,
   "metadata": {},
   "outputs": [
    {
     "name": "stdout",
     "output_type": "stream",
     "text": [
      "dict_items([('时候', 401), ('中国', 289), ('大家', 237), ('问题', 219), ('时间', 205), ('孩子', 204), ('事情', 163), ('世界', 153), ('网友', 150), ('感觉', 147), ('情况', 143), ('美国', 142), ('女人', 141), ('国家', 141), ('男人', 133), ('原因', 129), ('朋友', 128), ('方面', 121), ('东西', 114), ('关系', 112), ('地方', 112), ('媒体', 111), ('儿子', 111), ('身体', 108), ('结果', 101), ('无法', 100), ('女儿', 99), ('家庭', 99), ('有点', 98), ('能力', 98), ('电影', 98), ('网络', 94), ('故事', 92), ('回家', 91), ('婚姻', 87), ('妈妈', 86), ('感情', 84), ('父母', 81), ('消息', 80), ('公司', 80), ('技术', 78), ('观众', 76), ('日本', 76), ('医院', 75), ('市场', 75), ('演员', 75), ('老婆', 74), ('办法', 74), ('机会', 71), ('北京', 71), ('经历', 71), ('方式', 70), ('父亲', 70), ('历史', 70), ('过程', 70), ('人们', 70), ('娱乐圈', 69), ('图片', 69), ('人生', 68), ('全部', 67), ('妻子', 67), ('小时', 66), ('农村', 65), ('粉丝', 65), ('婆婆', 63), ('经济', 62), ('日子', 62), ('照片', 61), ('条件', 61), ('电视剧', 60), ('公众', 60), ('爱情', 60), ('样子', 59), ('节目', 59), ('个人', 59), ('城市', 59), ('名字', 59), ('俄罗斯', 58), ('家人', 58), ('对方', 58), ('状态', 57), ('军事', 57), ('大量', 56), ('衣服', 55), ('联系', 54), ('年龄', 54), ('社会', 54), ('武器', 54), ('事业', 54), ('基本', 54), ('医生', 54), ('文章', 53), ('实力', 53), ('产生', 53), ('双方', 53), ('角色', 53), ('全球', 53), ('房子', 52), ('大学', 51), ('速度', 51)])\n",
      "\r\n",
      "{'时候': 401, '中国': 289, '大家': 237, '问题': 219, '时间': 205, '孩子': 204, '事情': 163, '世界': 153, '网友': 150, '感觉': 147, '情况': 143, '美国': 142, '女人': 141, '国家': 141, '男人': 133, '原因': 129, '朋友': 128, '方面': 121, '东西': 114, '关系': 112, '地方': 112, '媒体': 111, '儿子': 111, '身体': 108, '结果': 101, '无法': 100, '女儿': 99, '家庭': 99, '有点': 98, '能力': 98, '电影': 98, '网络': 94, '故事': 92, '回家': 91, '婚姻': 87, '妈妈': 86, '感情': 84, '父母': 81, '消息': 80, '公司': 80, '技术': 78, '观众': 76, '日本': 76, '医院': 75, '市场': 75, '演员': 75, '老婆': 74, '办法': 74, '机会': 71, '北京': 71, '经历': 71, '方式': 70, '父亲': 70, '历史': 70, '过程': 70, '人们': 70, '娱乐圈': 69, '图片': 69, '人生': 68, '全部': 67, '妻子': 67, '小时': 66, '农村': 65, '粉丝': 65, '婆婆': 63, '经济': 62, '日子': 62, '照片': 61, '条件': 61, '电视剧': 60, '公众': 60, '爱情': 60, '样子': 59, '节目': 59, '个人': 59, '城市': 59, '名字': 59, '俄罗斯': 58, '家人': 58, '对方': 58, '状态': 57, '军事': 57, '大量': 56, '衣服': 55, '联系': 54, '年龄': 54, '社会': 54, '武器': 54, '事业': 54, '基本': 54, '医生': 54, '文章': 53, '实力': 53, '产生': 53, '双方': 53, '角色': 53, '全球': 53, '房子': 52, '大学': 51, '速度': 51}\n"
     ]
    }
   ],
   "source": [
    "print(rel_freq_list[0].to_dict().items())\n",
    "print('\\r')\n",
    "print(rel_freq_list[0].to_dict())"
   ]
  },
  {
   "cell_type": "code",
   "execution_count": 47,
   "metadata": {},
   "outputs": [
    {
     "data": {
      "text/plain": [
       "dict_keys(['时候', '中国', '大家', '问题', '时间', '孩子', '事情', '世界', '网友', '感觉', '情况', '美国', '女人', '国家', '男人', '原因', '朋友', '方面', '东西', '关系', '地方', '媒体', '儿子', '身体', '结果', '无法', '女儿', '家庭', '有点', '能力', '电影', '网络', '故事', '回家', '婚姻', '妈妈', '感情', '父母', '消息', '公司', '技术', '观众', '日本', '医院', '市场', '演员', '老婆', '办法', '机会', '北京', '经历', '方式', '父亲', '历史', '过程', '人们', '娱乐圈', '图片', '人生', '全部', '妻子', '小时', '农村', '粉丝', '婆婆', '经济', '日子', '照片', '条件', '电视剧', '公众', '爱情', '样子', '节目', '个人', '城市', '名字', '俄罗斯', '家人', '对方', '状态', '军事', '大量', '衣服', '联系', '年龄', '社会', '武器', '事业', '基本', '医生', '文章', '实力', '产生', '双方', '角色', '全球', '房子', '大学', '速度'])"
      ]
     },
     "execution_count": 47,
     "metadata": {},
     "output_type": "execute_result"
    }
   ],
   "source": [
    "high_article = rel_freq_list[0].to_dict()\n",
    "high_article.keys()"
   ]
  },
  {
   "cell_type": "code",
   "execution_count": 48,
   "metadata": {
    "collapsed": true
   },
   "outputs": [],
   "source": [
    "from collections import Counter\n",
    "positive_counts = Counter()\n",
    "negative_counts = Counter()\n",
    "total_counts = Counter()\n",
    "\n",
    "high_article = rel_freq_list[0].to_dict()\n",
    "low_article = rel_freq_list[1].to_dict()\n",
    "\n",
    "for word in high_article.keys():\n",
    "    positive_counts[word] = high_article[word]\n",
    "    total_counts[word] = total_counts[word]+high_article[word]\n",
    "    \n",
    "for word in low_article.keys():\n",
    "    negative_counts[word] = low_article[word]\n",
    "    total_counts[word] = total_counts[word]+low_article[word]    \n"
   ]
  },
  {
   "cell_type": "code",
   "execution_count": 49,
   "metadata": {
    "collapsed": true
   },
   "outputs": [],
   "source": [
    "pos_neg_ratios = Counter()\n",
    "\n",
    "# Calculate the ratios of positive and negative uses of the most common words\n",
    "# Consider words to be \"common\" if they've been used at least 100 times\n",
    "for term,cnt in rel_freq_list[0].to_dict().items():\n",
    "    if(cnt > 50):\n",
    "        pos_neg_ratio = positive_counts[term] / float(negative_counts[term]+1)\n",
    "        pos_neg_ratios[term] = pos_neg_ratio"
   ]
  },
  {
   "cell_type": "code",
   "execution_count": 50,
   "metadata": {},
   "outputs": [
    {
     "data": {
      "text/plain": [
       "[('婆婆', 63.0),\n",
       " ('日子', 62.0),\n",
       " ('公众', 60.0),\n",
       " ('城市', 59.0),\n",
       " ('俄罗斯', 58.0),\n",
       " ('军事', 57.0),\n",
       " ('衣服', 55.0),\n",
       " ('年龄', 54.0),\n",
       " ('武器', 54.0),\n",
       " ('双方', 53.0),\n",
       " ('大学', 51.0),\n",
       " ('速度', 51.0),\n",
       " ('电影', 1.3611111111111112),\n",
       " ('技术', 1.3448275862068966),\n",
       " ('美国', 1.3027522935779816),\n",
       " ('东西', 1.2954545454545454),\n",
       " ('妈妈', 1.2835820895522387),\n",
       " ('中国', 1.251082251082251),\n",
       " ('农村', 1.25),\n",
       " ('医院', 1.2295081967213115),\n",
       " ('能力', 1.2098765432098766),\n",
       " ('男人', 1.209090909090909),\n",
       " ('父亲', 1.1864406779661016),\n",
       " ('儿子', 1.1808510638297873),\n",
       " ('爱情', 1.1538461538461537),\n",
       " ('原因', 1.1517857142857142),\n",
       " ('世界', 1.1417910447761195),\n",
       " ('媒体', 1.1212121212121211),\n",
       " ('演员', 1.1194029850746268),\n",
       " ('人生', 1.1147540983606556),\n",
       " ('电视剧', 1.1111111111111112),\n",
       " ('机会', 1.109375),\n",
       " ('故事', 1.1084337349397591),\n",
       " ('办法', 1.1044776119402986),\n",
       " ('全部', 1.098360655737705),\n",
       " ('地方', 1.0980392156862746),\n",
       " ('网络', 1.0930232558139534),\n",
       " ('北京', 1.0923076923076922),\n",
       " ('身体', 1.0909090909090908),\n",
       " ('方面', 1.0900900900900901),\n",
       " ('条件', 1.0892857142857142),\n",
       " ('家庭', 1.0879120879120878),\n",
       " ('经济', 1.0877192982456141),\n",
       " ('市场', 1.0869565217391304),\n",
       " ('问题', 1.0841584158415842),\n",
       " ('孩子', 1.0793650793650793),\n",
       " ('无法', 1.0638297872340425),\n",
       " ('名字', 1.0535714285714286),\n",
       " ('父母', 1.051948051948052),\n",
       " ('时候', 1.0469973890339426),\n",
       " ('方式', 1.044776119402985),\n",
       " ('女人', 1.0444444444444445),\n",
       " ('女儿', 1.0421052631578946),\n",
       " ('日本', 1.0410958904109588),\n",
       " ('事业', 1.0384615384615385),\n",
       " ('大量', 1.037037037037037),\n",
       " ('婚姻', 1.0357142857142858),\n",
       " ('家人', 1.0357142857142858),\n",
       " ('老婆', 1.0136986301369864),\n",
       " ('观众', 1.0),\n",
       " ('经历', 1.0),\n",
       " ('样子', 1.0),\n",
       " ('个人', 1.0),\n",
       " ('实力', 1.0),\n",
       " ('角色', 1.0),\n",
       " ('时间', 0.99514563106796117),\n",
       " ('回家', 0.98913043478260865),\n",
       " ('人们', 0.9859154929577465),\n",
       " ('朋友', 0.97709923664122134),\n",
       " ('妻子', 0.97101449275362317),\n",
       " ('国家', 0.96575342465753422),\n",
       " ('全球', 0.96363636363636362),\n",
       " ('产生', 0.9464285714285714),\n",
       " ('过程', 0.94594594594594594),\n",
       " ('房子', 0.94545454545454544),\n",
       " ('消息', 0.94117647058823528),\n",
       " ('感觉', 0.930379746835443),\n",
       " ('公司', 0.93023255813953487),\n",
       " ('关系', 0.92561983471074383),\n",
       " ('节目', 0.921875),\n",
       " ('历史', 0.92105263157894735),\n",
       " ('状态', 0.91935483870967738),\n",
       " ('社会', 0.9152542372881356),\n",
       " ('医生', 0.9152542372881356),\n",
       " ('文章', 0.91379310344827591),\n",
       " ('情况', 0.90506329113924056),\n",
       " ('图片', 0.89610389610389607),\n",
       " ('事情', 0.89071038251366119),\n",
       " ('有点', 0.85964912280701755),\n",
       " ('感情', 0.8571428571428571),\n",
       " ('结果', 0.84873949579831931),\n",
       " ('对方', 0.84057971014492749),\n",
       " ('大家', 0.83745583038869253),\n",
       " ('小时', 0.83544303797468356),\n",
       " ('粉丝', 0.83333333333333337),\n",
       " ('联系', 0.81818181818181823),\n",
       " ('基本', 0.79411764705882348),\n",
       " ('照片', 0.77215189873417722),\n",
       " ('网友', 0.71770334928229662),\n",
       " ('娱乐圈', 0.66990291262135926)]"
      ]
     },
     "execution_count": 50,
     "metadata": {},
     "output_type": "execute_result"
    }
   ],
   "source": [
    "pos_neg_ratios.most_common()"
   ]
  },
  {
   "cell_type": "code",
   "execution_count": 51,
   "metadata": {},
   "outputs": [
    {
     "data": {
      "text/plain": [
       "[('婆婆', 63.0),\n",
       " ('日子', 62.0),\n",
       " ('公众', 60.0),\n",
       " ('城市', 59.0),\n",
       " ('俄罗斯', 58.0),\n",
       " ('军事', 57.0),\n",
       " ('衣服', 55.0),\n",
       " ('年龄', 54.0),\n",
       " ('武器', 54.0),\n",
       " ('双方', 53.0),\n",
       " ('大学', 51.0),\n",
       " ('速度', 51.0),\n",
       " ('电影', 1.3611111111111112),\n",
       " ('技术', 1.3448275862068966),\n",
       " ('美国', 1.3027522935779816),\n",
       " ('东西', 1.2954545454545454),\n",
       " ('妈妈', 1.2835820895522387),\n",
       " ('中国', 1.251082251082251),\n",
       " ('农村', 1.25),\n",
       " ('医院', 1.2295081967213115)]"
      ]
     },
     "execution_count": 51,
     "metadata": {},
     "output_type": "execute_result"
    }
   ],
   "source": [
    "pos_neg_ratios.most_common()[0:20]"
   ]
  },
  {
   "cell_type": "code",
   "execution_count": 67,
   "metadata": {},
   "outputs": [
    {
     "name": "stdout",
     "output_type": "stream",
     "text": [
      "[('婆婆', 63.0), ('日子', 62.0), ('公众', 60.0), ('城市', 59.0), ('俄罗斯', 58.0), ('军事', 57.0), ('衣服', 55.0), ('年龄', 54.0), ('武器', 54.0), ('双方', 53.0), ('大学', 51.0), ('速度', 51.0), ('电影', 1.3611111111111112), ('技术', 1.3448275862068966), ('美国', 1.3027522935779816), ('东西', 1.2954545454545454), ('妈妈', 1.2835820895522387), ('中国', 1.251082251082251), ('农村', 1.25), ('医院', 1.2295081967213115), ('能力', 1.2098765432098766), ('男人', 1.209090909090909)]\n"
     ]
    },
    {
     "data": {
      "text/plain": [
       "{'东西': 114,\n",
       " '中国': 289,\n",
       " '俄罗斯': 58,\n",
       " '公众': 60,\n",
       " '军事': 57,\n",
       " '农村': 65,\n",
       " '医院': 75,\n",
       " '双方': 53,\n",
       " '城市': 59,\n",
       " '大学': 51,\n",
       " '妈妈': 86,\n",
       " '婆婆': 63,\n",
       " '年龄': 54,\n",
       " '技术': 78,\n",
       " '日子': 62,\n",
       " '武器': 54,\n",
       " '电影': 98,\n",
       " '男人': 133,\n",
       " '美国': 142,\n",
       " '能力': 98,\n",
       " '衣服': 55,\n",
       " '速度': 51}"
      ]
     },
     "execution_count": 67,
     "metadata": {},
     "output_type": "execute_result"
    }
   ],
   "source": [
    "temp = [(term, cnt) for term, cnt in pos_neg_ratios.most_common() if cnt>1.2]\n",
    "print(temp)\n",
    "{term:positive_counts[term] for term, cnt in temp}"
   ]
  },
  {
   "cell_type": "code",
   "execution_count": 53,
   "metadata": {},
   "outputs": [
    {
     "data": {
      "text/plain": [
       "[('娱乐圈', 0.66990291262135926),\n",
       " ('网友', 0.71770334928229662),\n",
       " ('照片', 0.77215189873417722),\n",
       " ('基本', 0.79411764705882348),\n",
       " ('联系', 0.81818181818181823),\n",
       " ('粉丝', 0.83333333333333337),\n",
       " ('小时', 0.83544303797468356),\n",
       " ('大家', 0.83745583038869253),\n",
       " ('对方', 0.84057971014492749),\n",
       " ('结果', 0.84873949579831931)]"
      ]
     },
     "execution_count": 53,
     "metadata": {},
     "output_type": "execute_result"
    }
   ],
   "source": [
    "list(reversed(pos_neg_ratios.most_common()))[0:10]"
   ]
  },
  {
   "cell_type": "code",
   "execution_count": 54,
   "metadata": {},
   "outputs": [
    {
     "data": {
      "text/plain": [
       "[('事件', 71.0),\n",
       " ('手机', 69.0),\n",
       " ('评论', 68.0),\n",
       " ('夫妻', 63.0),\n",
       " ('现场', 62.0),\n",
       " ('形象', 56.0),\n",
       " ('国际', 56.0),\n",
       " ('人家', 55.0),\n",
       " ('方法', 54.0),\n",
       " ('时代', 53.0),\n",
       " ('企业', 51.0),\n",
       " ('效果', 51.0),\n",
       " ('娱乐圈', 1.4571428571428571),\n",
       " ('网友', 1.3774834437086092),\n",
       " ('照片', 1.2580645161290323),\n",
       " ('基本', 1.2181818181818183),\n",
       " ('大家', 1.1848739495798319),\n",
       " ('联系', 1.1818181818181819),\n",
       " ('粉丝', 1.1666666666666667),\n",
       " ('小时', 1.164179104477612),\n",
       " ('结果', 1.1568627450980393),\n",
       " ('对方', 1.152542372881356),\n",
       " ('有点', 1.1414141414141414),\n",
       " ('感情', 1.1411764705882352),\n",
       " ('事情', 1.1097560975609757),\n",
       " ('情况', 1.0902777777777777),\n",
       " ('图片', 1.0857142857142856),\n",
       " ('关系', 1.0619469026548674),\n",
       " ('感觉', 1.0608108108108107),\n",
       " ('历史', 1.056338028169014),\n",
       " ('文章', 1.0555555555555556),\n",
       " ('社会', 1.0545454545454545),\n",
       " ('医生', 1.0545454545454545),\n",
       " ('状态', 1.0517241379310345),\n",
       " ('节目', 1.05),\n",
       " ('公司', 1.0493827160493827),\n",
       " ('消息', 1.037037037037037),\n",
       " ('过程', 1.028169014084507),\n",
       " ('国家', 1.0211267605633803),\n",
       " ('房子', 1.0188679245283019),\n",
       " ('产生', 1.0185185185185186),\n",
       " ('朋友', 1.0077519379844961),\n",
       " ('妻子', 1.0),\n",
       " ('全球', 1.0),\n",
       " ('时间', 0.99514563106796117),\n",
       " ('回家', 0.98913043478260865),\n",
       " ('人们', 0.9859154929577465),\n",
       " ('观众', 0.97402597402597402),\n",
       " ('经历', 0.97222222222222221),\n",
       " ('样子', 0.96666666666666667),\n",
       " ('个人', 0.96666666666666667),\n",
       " ('实力', 0.96296296296296291),\n",
       " ('角色', 0.96296296296296291),\n",
       " ('老婆', 0.95999999999999996),\n",
       " ('时候', 0.95024875621890548),\n",
       " ('女人', 0.94366197183098588),\n",
       " ('婚姻', 0.94318181818181823),\n",
       " ('女儿', 0.93999999999999995),\n",
       " ('日本', 0.93506493506493504),\n",
       " ('家人', 0.93220338983050843),\n",
       " ('大量', 0.92982456140350878),\n",
       " ('方式', 0.92957746478873238),\n",
       " ('事业', 0.92727272727272725),\n",
       " ('父母', 0.92682926829268297),\n",
       " ('无法', 0.92079207920792083),\n",
       " ('孩子', 0.91707317073170735),\n",
       " ('名字', 0.91666666666666663),\n",
       " ('问题', 0.91363636363636369),\n",
       " ('方面', 0.90163934426229508),\n",
       " ('家庭', 0.90000000000000002),\n",
       " ('身体', 0.8990825688073395),\n",
       " ('网络', 0.89473684210526316),\n",
       " ('市场', 0.89473684210526316),\n",
       " ('地方', 0.89380530973451322),\n",
       " ('北京', 0.88888888888888884),\n",
       " ('经济', 0.88888888888888884),\n",
       " ('条件', 0.88709677419354838),\n",
       " ('全部', 0.88235294117647056),\n",
       " ('故事', 0.88172043010752688),\n",
       " ('办法', 0.88),\n",
       " ('媒体', 0.875),\n",
       " ('机会', 0.875),\n",
       " ('人生', 0.86956521739130432),\n",
       " ('电视剧', 0.86885245901639341),\n",
       " ('演员', 0.86842105263157898),\n",
       " ('世界', 0.86363636363636365),\n",
       " ('原因', 0.85384615384615381),\n",
       " ('爱情', 0.83606557377049184),\n",
       " ('儿子', 0.8303571428571429),\n",
       " ('父亲', 0.81690140845070425),\n",
       " ('男人', 0.81343283582089554),\n",
       " ('能力', 0.80808080808080807),\n",
       " ('中国', 0.7931034482758621),\n",
       " ('医院', 0.78947368421052633),\n",
       " ('农村', 0.77272727272727271),\n",
       " ('妈妈', 0.75862068965517238),\n",
       " ('东西', 0.75652173913043474),\n",
       " ('美国', 0.75524475524475521),\n",
       " ('技术', 0.72151898734177211),\n",
       " ('电影', 0.71717171717171713)]"
      ]
     },
     "execution_count": 54,
     "metadata": {},
     "output_type": "execute_result"
    }
   ],
   "source": [
    "pos_neg_ratios2 = Counter()\n",
    "\n",
    "# Calculate the ratios of positive and negative uses of the most common words\n",
    "# Consider words to be \"common\" if they've been used at least 100 times\n",
    "for term,cnt in rel_freq_list[1].to_dict().items():\n",
    "    if(cnt > 50):\n",
    "        pos_neg_ratio2 = negative_counts[term] / float(positive_counts[term]+1)\n",
    "        pos_neg_ratios2[term] = pos_neg_ratio2\n",
    "pos_neg_ratios2.most_common()"
   ]
  },
  {
   "cell_type": "markdown",
   "metadata": {},
   "source": [
    "## 7. 云图"
   ]
  },
  {
   "cell_type": "code",
   "execution_count": 55,
   "metadata": {
    "collapsed": true
   },
   "outputs": [],
   "source": [
    "from wordcloud import WordCloud"
   ]
  },
  {
   "cell_type": "code",
   "execution_count": 57,
   "metadata": {},
   "outputs": [
    {
     "data": {
      "text/plain": [
       "'/Users/arfu/.matplotlib'"
      ]
     },
     "execution_count": 57,
     "metadata": {},
     "output_type": "execute_result"
    }
   ],
   "source": [
    "import matplotlib\n",
    "matplotlib.get_cachedir()"
   ]
  },
  {
   "cell_type": "code",
   "execution_count": 58,
   "metadata": {},
   "outputs": [
    {
     "data": {
      "text/plain": [
       "'/Users/arfu/miniconda2/envs/dlnd/lib/python3.6/site-packages/matplotlib/mpl-data/matplotlibrc'"
      ]
     },
     "execution_count": 58,
     "metadata": {},
     "output_type": "execute_result"
    }
   ],
   "source": [
    "import matplotlib\n",
    "matplotlib.matplotlib_fname()"
   ]
  },
  {
   "cell_type": "code",
   "execution_count": 56,
   "metadata": {},
   "outputs": [
    {
     "data": {
      "text/plain": [
       "['SimHei']"
      ]
     },
     "execution_count": 56,
     "metadata": {},
     "output_type": "execute_result"
    }
   ],
   "source": [
    "plt.rcParams['font.sans-serif']"
   ]
  },
  {
   "cell_type": "code",
   "execution_count": 68,
   "metadata": {},
   "outputs": [
    {
     "data": {
      "text/plain": [
       "(-0.5, 399.5, 199.5, -0.5)"
      ]
     },
     "execution_count": 68,
     "metadata": {},
     "output_type": "execute_result"
    },
    {
     "data": {
      "image/png": "[encoded data removed]",
      "text/plain": [
       "<matplotlib.figure.Figure at 0x11bb202e8>"
      ]
     },
     "metadata": {
      "image/png": {
       "height": 199,
       "width": 372
      }
     },
     "output_type": "display_data"
    }
   ],
   "source": [
    "frequencies = {term:cnt for term, cnt in temp}\n",
    "wordcloud = WordCloud(font_path=\"simhei.ttf\").fit_words(frequencies)\n",
    "\n",
    "# Display the generated image:\n",
    "# the matplotlib way:\n",
    "# import matplotlib.pyplot as plt\n",
    "\n",
    "# plt.rcParams['font.sans-serif'] = ['SimHei']  # for Chinese characters\n",
    "# STIXSizOneSymBol, STIXGeneral\n",
    "plt.imshow(wordcloud)\n",
    "plt.axis(\"off\")"
   ]
  },
  {
   "cell_type": "code",
   "execution_count": 69,
   "metadata": {},
   "outputs": [
    {
     "data": {
      "image/png": "[encoded data removed]",
      "text/plain": [
       "<matplotlib.figure.Figure at 0x11b8b49b0>"
      ]
     },
     "metadata": {
      "image/png": {
       "height": 199,
       "width": 372
      }
     },
     "output_type": "display_data"
    }
   ],
   "source": [
    "wordcloud = WordCloud(font_path=\"simhei.ttf\", max_font_size=40, relative_scaling=.5).fit_words(frequencies)\n",
    "# simhei.ttf要放在和该.ipynb文件相同的目录中\n",
    "plt.figure()\n",
    "plt.imshow(wordcloud)\n",
    "plt.axis(\"off\")\n",
    "plt.show()"
   ]
  },
  {
   "cell_type": "code",
   "execution_count": 70,
   "metadata": {},
   "outputs": [
    {
     "data": {
      "text/plain": [
       "<wordcloud.wordcloud.WordCloud at 0x11b8b4cc0>"
      ]
     },
     "execution_count": 70,
     "metadata": {},
     "output_type": "execute_result"
    }
   ],
   "source": [
    "wordcloud.to_file(\"high.jpg\")"
   ]
  },
  {
   "cell_type": "code",
   "execution_count": 71,
   "metadata": {},
   "outputs": [
    {
     "data": {
      "image/png": "[encoded data removed]",
      "text/plain": [
       "<matplotlib.figure.Figure at 0x11b8784a8>"
      ]
     },
     "metadata": {
      "image/png": {
       "height": 199,
       "width": 372
      }
     },
     "output_type": "display_data"
    },
    {
     "data": {
      "text/plain": [
       "<wordcloud.wordcloud.WordCloud at 0x11bb30d30>"
      ]
     },
     "execution_count": 71,
     "metadata": {},
     "output_type": "execute_result"
    }
   ],
   "source": [
    "temp3 = [(term, cnt) for term, cnt in pos_neg_ratios2.most_common() if cnt>1.2]\n",
    "frequencies = {term:cnt for term, cnt in temp3}\n",
    "wordcloud = WordCloud(font_path=\"simhei.ttf\", max_font_size=40, relative_scaling=.5).fit_words(frequencies)\n",
    "plt.figure()\n",
    "plt.imshow(wordcloud)\n",
    "plt.axis(\"off\")\n",
    "plt.show()\n",
    "wordcloud.to_file(\"low.jpg\")"
   ]
  },
  {
   "cell_type": "markdown",
   "metadata": {},
   "source": [
    "high指的是二三百万的阅读量，low指的是二三十万的阅读量"
   ]
  },
  {
   "cell_type": "code",
   "execution_count": null,
   "metadata": {
    "collapsed": true
   },
   "outputs": [],
   "source": []
  }
 ],
 "metadata": {
  "kernelspec": {
   "display_name": "Python 3",
   "language": "python",
   "name": "python3"
  },
  "language_info": {
   "codemirror_mode": {
    "name": "ipython",
    "version": 3
   },
   "file_extension": ".py",
   "mimetype": "text/x-python",
   "name": "python",
   "nbconvert_exporter": "python",
   "pygments_lexer": "ipython3",
   "version": "3.6.2"
  }
 },
 "nbformat": 4,
 "nbformat_minor": 2
}
