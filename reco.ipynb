{
 "cells": [
  {
   "cell_type": "markdown",
   "metadata": {},
   "source": [
    "# 中文长文本分类（今日头条数据）\n",
    "\n",
    "jeff\n",
    "\n",
    "guojianfu@gmail.com\n",
    "\n",
    "2017.9.27"
   ]
  },
  {
   "cell_type": "markdown",
   "metadata": {},
   "source": [
    "## 1. 数据的import和access"
   ]
  },
  {
   "cell_type": "code",
   "execution_count": 1,
   "metadata": {},
   "outputs": [
    {
     "name": "stdout",
     "output_type": "stream",
     "text": [
      "0.20.3\n",
      "\r\n",
      "1.1.0\n"
     ]
    }
   ],
   "source": [
    "import pandas as pd\n",
    "# xlrd is also requried\n",
    "print(pd.__version__)\n",
    "print('\\r')\n",
    "import xlrd\n",
    "print(xlrd.__VERSION__)\n",
    "# dir(xlrd)\n",
    "# you shouldn't name a file or a folder arbitrarily"
   ]
  },
  {
   "cell_type": "code",
   "execution_count": 2,
   "metadata": {},
   "outputs": [
    {
     "data": {
      "text/plain": [
       "'1.12.1'"
      ]
     },
     "execution_count": 2,
     "metadata": {},
     "output_type": "execute_result"
    }
   ],
   "source": [
    "import numpy\n",
    "numpy.__version__"
   ]
  },
  {
   "cell_type": "code",
   "execution_count": 3,
   "metadata": {
    "collapsed": true
   },
   "outputs": [],
   "source": [
    "xl = pd.ExcelFile(\"toutiao.xlsx\")\n",
    "# xl = pd.read_excel(\"toutiao.xlsx\")"
   ]
  },
  {
   "cell_type": "code",
   "execution_count": 4,
   "metadata": {},
   "outputs": [
    {
     "data": {
      "text/plain": [
       "['Sheet1']"
      ]
     },
     "execution_count": 4,
     "metadata": {},
     "output_type": "execute_result"
    }
   ],
   "source": [
    "xl.sheet_names"
   ]
  },
  {
   "cell_type": "code",
   "execution_count": 5,
   "metadata": {
    "collapsed": true
   },
   "outputs": [],
   "source": [
    "df = xl.parse(\"Sheet1\")"
   ]
  },
  {
   "cell_type": "code",
   "execution_count": 6,
   "metadata": {},
   "outputs": [
    {
     "name": "stdout",
     "output_type": "stream",
     "text": [
      "(13140, 10)\n"
     ]
    },
    {
     "data": {
      "text/html": [
       "<div>\n",
       "<style>\n",
       "    .dataframe thead tr:only-child th {\n",
       "        text-align: right;\n",
       "    }\n",
       "\n",
       "    .dataframe thead th {\n",
       "        text-align: left;\n",
       "    }\n",
       "\n",
       "    .dataframe tbody tr th {\n",
       "        vertical-align: top;\n",
       "    }\n",
       "</style>\n",
       "<table border=\"1\" class=\"dataframe\">\n",
       "  <thead>\n",
       "    <tr style=\"text-align: right;\">\n",
       "      <th></th>\n",
       "      <th>原创</th>\n",
       "      <th>题目</th>\n",
       "      <th>评论</th>\n",
       "      <th>阅读</th>\n",
       "      <th>日期</th>\n",
       "      <th>时间</th>\n",
       "      <th>类别</th>\n",
       "      <th>URL</th>\n",
       "      <th>正文</th>\n",
       "      <th>标签</th>\n",
       "    </tr>\n",
       "  </thead>\n",
       "  <tbody>\n",
       "    <tr>\n",
       "      <th>0</th>\n",
       "      <td>原</td>\n",
       "      <td>一触即发！美国军方一号进沈阳释放强烈信号</td>\n",
       "      <td>1</td>\n",
       "      <td>15720327</td>\n",
       "      <td>2017-08-18</td>\n",
       "      <td>15:38:45</td>\n",
       "      <td>军事</td>\n",
       "      <td>http://www.toutiao.com/a6455515910357647885/</td>\n",
       "      <td>“如果朝鲜问题将出现一种军事解决方案，那绝对是可怕的。”在美朝口水战空前激烈的背景下，美国参...</td>\n",
       "      <td>美国/朝鲜半岛/陆军/Jeep指挥官/</td>\n",
       "    </tr>\n",
       "    <tr>\n",
       "      <th>1</th>\n",
       "      <td>原</td>\n",
       "      <td>印度外交部哀叹，印度没有收到来自中国的洪水数据</td>\n",
       "      <td>31832</td>\n",
       "      <td>6600593</td>\n",
       "      <td>2017-08-19</td>\n",
       "      <td>10:30:13</td>\n",
       "      <td>国际</td>\n",
       "      <td>http://www.toutiao.com/a6455807489534345742/</td>\n",
       "      <td>作者：王德华印度每年6月至9月是季风雨季，雷电暴雨天气频发，洪水及泥石流等灾害经常发生。印度...</td>\n",
       "      <td>布拉马普特拉河/恒河/象泉河/雅鲁藏布江/</td>\n",
       "    </tr>\n",
       "    <tr>\n",
       "      <th>2</th>\n",
       "      <td>原</td>\n",
       "      <td>上任仅仨月他已成南海中国神队友，美国下一个天敌？</td>\n",
       "      <td>211</td>\n",
       "      <td>3133985</td>\n",
       "      <td>2017-08-17</td>\n",
       "      <td>16:02:46</td>\n",
       "      <td>国际</td>\n",
       "      <td>http://www.toutiao.com/a6455151014193398286/</td>\n",
       "      <td>东盟外长会结束一周以后，菲律宾又搞出了一个“大动作”。该国外长宣布，将与中国联合勘探南海。看...</td>\n",
       "      <td>南海/东盟/美国/王毅/</td>\n",
       "    </tr>\n",
       "    <tr>\n",
       "      <th>3</th>\n",
       "      <td>NaN</td>\n",
       "      <td>「养生堂」今日17：25播出《秋季长寿养生经——打破秋季高发</td>\n",
       "      <td>0</td>\n",
       "      <td>3106659</td>\n",
       "      <td>2017-08-17</td>\n",
       "      <td>13:39:46</td>\n",
       "      <td>健康</td>\n",
       "      <td>http://www.toutiao.com/a6454568844127469837/</td>\n",
       "      <td>NaN</td>\n",
       "      <td>NaN</td>\n",
       "    </tr>\n",
       "    <tr>\n",
       "      <th>4</th>\n",
       "      <td>NaN</td>\n",
       "      <td>「养生厨房」今日播出——西红柿烧茄子</td>\n",
       "      <td>0</td>\n",
       "      <td>3105632</td>\n",
       "      <td>2017-08-18</td>\n",
       "      <td>14:23:27</td>\n",
       "      <td>美食</td>\n",
       "      <td>http://www.toutiao.com/a6455273360070574349/</td>\n",
       "      <td>NaN</td>\n",
       "      <td>NaN</td>\n",
       "    </tr>\n",
       "  </tbody>\n",
       "</table>\n",
       "</div>"
      ],
      "text/plain": [
       "    原创                              题目     评论        阅读         日期        时间  \\\n",
       "0    原            一触即发！美国军方一号进沈阳释放强烈信号      1  15720327 2017-08-18  15:38:45   \n",
       "1    原         印度外交部哀叹，印度没有收到来自中国的洪水数据  31832   6600593 2017-08-19  10:30:13   \n",
       "2    原        上任仅仨月他已成南海中国神队友，美国下一个天敌？    211   3133985 2017-08-17  16:02:46   \n",
       "3  NaN  「养生堂」今日17：25播出《秋季长寿养生经——打破秋季高发      0   3106659 2017-08-17  13:39:46   \n",
       "4  NaN              「养生厨房」今日播出——西红柿烧茄子      0   3105632 2017-08-18  14:23:27   \n",
       "\n",
       "   类别                                           URL  \\\n",
       "0  军事  http://www.toutiao.com/a6455515910357647885/   \n",
       "1  国际  http://www.toutiao.com/a6455807489534345742/   \n",
       "2  国际  http://www.toutiao.com/a6455151014193398286/   \n",
       "3  健康  http://www.toutiao.com/a6454568844127469837/   \n",
       "4  美食  http://www.toutiao.com/a6455273360070574349/   \n",
       "\n",
       "                                                  正文                     标签  \n",
       "0  “如果朝鲜问题将出现一种军事解决方案，那绝对是可怕的。”在美朝口水战空前激烈的背景下，美国参...    美国/朝鲜半岛/陆军/Jeep指挥官/  \n",
       "1  作者：王德华印度每年6月至9月是季风雨季，雷电暴雨天气频发，洪水及泥石流等灾害经常发生。印度...  布拉马普特拉河/恒河/象泉河/雅鲁藏布江/  \n",
       "2  东盟外长会结束一周以后，菲律宾又搞出了一个“大动作”。该国外长宣布，将与中国联合勘探南海。看...           南海/东盟/美国/王毅/  \n",
       "3                                                NaN                    NaN  \n",
       "4                                                NaN                    NaN  "
      ]
     },
     "execution_count": 6,
     "metadata": {},
     "output_type": "execute_result"
    }
   ],
   "source": [
    "print(df.shape)\n",
    "s=df.head()\n",
    "s"
   ]
  },
  {
   "cell_type": "code",
   "execution_count": 7,
   "metadata": {},
   "outputs": [
    {
     "name": "stdout",
     "output_type": "stream",
     "text": [
      "原创                                                     原\n",
      "题目                                  一触即发！美国军方一号进沈阳释放强烈信号\n",
      "评论                                                     1\n",
      "阅读                                              15720327\n",
      "日期                                   2017-08-18 00:00:00\n",
      "时间                                              15:38:45\n",
      "类别                                                    军事\n",
      "URL         http://www.toutiao.com/a6455515910357647885/\n",
      "正文     “如果朝鲜问题将出现一种军事解决方案，那绝对是可怕的。”在美朝口水战空前激烈的背景下，美国参...\n",
      "标签                                   美国/朝鲜半岛/陆军/Jeep指挥官/\n",
      "Name: 0, dtype: object\n",
      "\r\n",
      "<class 'pandas.core.series.Series'>\n"
     ]
    }
   ],
   "source": [
    "print(s.iloc[0,:])\n",
    "print('\\r')\n",
    "print(type(s.iloc[0,:]))"
   ]
  },
  {
   "cell_type": "code",
   "execution_count": 8,
   "metadata": {},
   "outputs": [
    {
     "data": {
      "text/plain": [
       "0      原\n",
       "1      原\n",
       "2      原\n",
       "3    NaN\n",
       "4    NaN\n",
       "Name: 原创, dtype: object"
      ]
     },
     "execution_count": 8,
     "metadata": {},
     "output_type": "execute_result"
    }
   ],
   "source": [
    "s.iloc[:,0]\n",
    "# s.loc[,]"
   ]
  },
  {
   "cell_type": "code",
   "execution_count": 9,
   "metadata": {},
   "outputs": [
    {
     "data": {
      "text/plain": [
       "0      原\n",
       "1      原\n",
       "2      原\n",
       "3    NaN\n",
       "4    NaN\n",
       "Name: 原创, dtype: object"
      ]
     },
     "execution_count": 9,
     "metadata": {},
     "output_type": "execute_result"
    }
   ],
   "source": [
    "s['原创']\n",
    "# s.loc[:, '原创']"
   ]
  },
  {
   "cell_type": "code",
   "execution_count": 10,
   "metadata": {},
   "outputs": [
    {
     "name": "stdout",
     "output_type": "stream",
     "text": [
      "“如果朝鲜问题将出现一种军事解决方案，那绝对是可怕的。”在美朝口水战空前激烈的背景下，美国参谋长联席会议主席约瑟夫·邓福德，近日访问了北部战区司令部驻地沈阳和首都北京。长安街知事App发现，这是美军高层首次参观能近距离监控中朝边境的地区。敏感时期，中国将美国军方一号人物请到沈阳，释放了强烈的信号。真正狠角儿不靠嘴前有二战功勋“五星上将”布莱德雷，后有“太空司令”理查德·迈尔斯——作为美国军方“首长堆儿里的首长”，参联会主席从来不是“软蛋”，现任主席约瑟夫·邓福德更因为在战场上的功绩得到“Fighting Joe，战斗乔”的绰号。不过，正因为军人的身份，美国军方的指挥官们，比五角大楼和白宫的文官说话更靠谱。昨天，邓福德结束了访问解放军北部战区和北京的行程。美联社说，邓福德在北京会见中国军方高层时表达了这样一层意思：如果朝鲜问题将出现一种军事解决方案，那绝对是可怕的，这一点毋庸置疑。“我的意思是，我们有必要制定有效的沟通机制，这样一来，一旦爆发危机，我们能够立即进行对话，避免误判和加剧危机。”有意思的是，邓福德的说法，与美国总统特朗普和防长马蒂斯截然相反，二者曾分别在办公室里向记者咆哮“朝鲜将面临前所未有的炮火与怒火”“一旦美军对朝开展，朝鲜必败”等等。这被媒体广泛解读为，口水战。然而，真正的狠角儿不靠嘴。《华尔街日报》透露，早在特朗普与金正恩口水战升温之前，邓福德的访华计划就已制订。指挥官们“怕”什么？“美国希望金正恩同意实现朝鲜无核化并停止试射导弹。”邓福德在北京说，这是更可取的最终状态。那么，美国指挥官们“怕”什么呢？班农，白宫中少数与军方持相同观点的文官说了实话。这位正逐渐被边缘化的特朗普首席战略分析师说，“对朝鲜，美国不存在军事解决方案，忘了它吧。在有人解开这部分方程式，向我证明首尔的1000万人不会在头30分钟死于常规武器之前，我不知道你在谈论的是什么，这里根本不存在军事解决方案，他们难住了我们。”没错，知事早先分析过，朝鲜真正的王牌并不是那些有的没的核导弹，而是隐藏在三八线群山地下工事中的近千门火炮。一旦朝鲜拼命，这些火炮一轮齐射，就可让距离三八线仅45公里的首尔，瞬间回到30年前，1000多万居民身处火海。美国太平洋舰队司令部有多少航母舰载机，关岛、釜山、横须贺基地有多少弹道导弹，能“先发制人”削平板门店附近的山头呢？如果不能保全首尔，那么特朗普的炮火，瞬间就会转化为韩国人的怒火。一旦开火，中美怎么办？与到访北京同样受关注的是，邓福德访华之旅还有重要一站，沈阳——解放军北部战区司令部。美国媒体称，这是中国距离朝鲜最近的战区。《华尔街日报》称，美国高层军官几乎从未参观过，能近距离监控中朝边境的地区。中国在敏感时期将美国军方一号请到这里意味着什么？美国人给出的解释是，这似乎表明，朝鲜的威胁越来越大，中国也和美国一样担心。16日，邓福德还在沈阳观看了陆军某“合成旅”的实弹演习，这是在中国军改下于近几个月组建的新军事单位之一，位于中国东北的部队旨在应对包括美国军事打击在内的潜在朝鲜危机。美国军方官员称，邓福德观摩实弹演习之后，似乎并没有发现任何可能用于朝鲜危机的特殊能力。那么，一旦半岛生战，中美会怎么办？美国媒体称，中国长期以来一直拒绝美国提出的双方进行磋商沟通的请求。美国提出中美进行磋商，防止一旦爆发朝鲜危机，美国和中国的行动产生冲突。而此次美中之间展开的新讨论显示中国的想法发生转变。邓福德对记者说，围绕朝鲜半岛潜在危机可能局面的初步对话应在危机爆发前展开。“两国军方建立有效的沟通机制是有帮助的，一旦发生危机，双方可以立即交流，从而避免误判并加深危机。”而这也是中国向美方释放出的强烈信号。根据中国国防部发布的消息，军委副主席范长龙在北京会见邓福德时说，对话协商是解决朝鲜半岛问题的唯一有效途径，军事手段不能成为选项。\n",
      "\r\n",
      "<class 'str'>\n"
     ]
    }
   ],
   "source": [
    "st = s.loc[0,'正文']\n",
    "print(st)\n",
    "print('\\r')\n",
    "print(type(st))"
   ]
  },
  {
   "cell_type": "markdown",
   "metadata": {},
   "source": [
    "## 2. 分词及分词前的处理"
   ]
  },
  {
   "cell_type": "code",
   "execution_count": 11,
   "metadata": {
    "collapsed": true
   },
   "outputs": [],
   "source": [
    "import jieba"
   ]
  },
  {
   "cell_type": "code",
   "execution_count": 35,
   "metadata": {},
   "outputs": [
    {
     "name": "stdout",
     "output_type": "stream",
     "text": [
      "New Dictionary : {'!': ' ', '\"': ' ', '#': ' ', '$': ' ', '%': ' ', '&': ' ', \"'\": ' ', '(': ' ', ')': ' ', '*': ' ', '+': ' ', ',': ' ', '-': ' ', '.': ' ', '/': ' ', ':': ' ', ';': ' ', '<': ' ', '=': ' ', '>': ' ', '?': ' ', '@': ' ', '[': ' ', '\\\\': ' ', ']': ' ', '^': ' ', '_': ' ', '`': ' ', '{': ' ', '|': ' ', '}': ' ', '~': ' ', '。': ' ', '，': ' ', '“': ' ', '”': ' ', '‘': ' ', '’': ' ', '（': ' ', '）': ' ', '：': ' ', '；': ' ', '？': ' ', '·': ' ', '—': ' ', '《': ' ', '》': ' '}\n"
     ]
    }
   ],
   "source": [
    "import string\n",
    "import re\n",
    "\n",
    "# m = st.translate(None, string.punctuation)\n",
    "intab = string.punctuation + '。，“”‘’（）：；？·—《》'\n",
    "outtab = ' '\n",
    "print (\"New Dictionary : %s\" %  str(dict.fromkeys(intab, outtab)))\n",
    "table = str.maketrans(dict.fromkeys(intab, outtab))\n",
    "st1 = st.translate(table)\n",
    "st1 = re.sub(\"\\d\", \" \", st1)"
   ]
  },
  {
   "cell_type": "code",
   "execution_count": 36,
   "metadata": {},
   "outputs": [
    {
     "name": "stdout",
     "output_type": "stream",
     "text": [
      "{'拿', '让', '不', '别', '比', '凭', '到', '个', '的', '怎', '该', '有', '及', '靠', '啥', '些', '自', '即', '则', '小', '她', '尔', '您', '同', '最', '得', '致', '往', '据', '于', '至', '因', '哪', '后', '若', '与', '可', '当', '却', '和', '下', '还', '用', '如', '无', '人', '在', '去', '从', '使', '上', '每', '儿', '那', '来', '某', '谁', '们', '吧', '只', '另', '且', '其', '一', '随', '仍', '由', '为', '看', '亦', '沿', '所', '咱', '向', '今', '再', '或', '各', '着', '此', '虽', '把', '以', '并', '也', '好', '啦', '趁', '么', '又', '嗡', '几', '跟', '而', '很', '凡', '哇', '我', '打', '诸', '了', '这', '是', '你', '曾', '起', '哟', '他', '被', '之', '何', '但', '它', '既', '嘛', '给', '距', '乃', '已'}\n"
     ]
    }
   ],
   "source": [
    "from many_stop_words import get_stop_words, available_languages\n",
    "# available_languages\n",
    "stopset = get_stop_words('zh')\n",
    "# type(get_stop_words('zh')), set\n",
    "print(stopset)\n",
    "my_stopset = set([' ', '如果', '问题', '将', '时', '更', '正', '说']).union(stopset)"
   ]
  },
  {
   "cell_type": "code",
   "execution_count": 37,
   "metadata": {},
   "outputs": [
    {
     "name": "stdout",
     "output_type": "stream",
     "text": [
      "朝鲜\n",
      "出现\n",
      "一种\n",
      "军事\n",
      "解决方案\n",
      "绝对\n",
      "可怕\n",
      "美朝\n",
      "口水战\n",
      "空前\n",
      "激烈\n",
      "背景\n",
      "美国参谋长联席会议\n",
      "主席\n",
      "约瑟夫\n",
      "邓福德\n",
      "近日\n",
      "访问\n",
      "北部\n",
      "战区\n",
      "司令部\n",
      "驻地\n",
      "沈阳\n",
      "首都北京\n",
      "长安街\n",
      "知事\n",
      "App\n",
      "发现\n",
      "这是\n",
      "美军\n",
      "高层\n"
     ]
    }
   ],
   "source": [
    "seg_list = jieba.cut(st1, cut_all=False)\n",
    "# cut_all=False is slower than cut_all=True\n",
    "# print([i for i in seg_list])\n",
    "j=0\n",
    "for i in seg_list:\n",
    "    if i not in my_stopset:\n",
    "        print(i)\n",
    "    j+=1\n",
    "    if j>50:\n",
    "        break"
   ]
  },
  {
   "cell_type": "markdown",
   "metadata": {},
   "source": [
    "## 3. Retrieve useful information"
   ]
  },
  {
   "cell_type": "code",
   "execution_count": 14,
   "metadata": {},
   "outputs": [
    {
     "data": {
      "text/plain": [
       "['danish',\n",
       " 'dutch',\n",
       " 'english',\n",
       " 'finnish',\n",
       " 'french',\n",
       " 'german',\n",
       " 'hungarian',\n",
       " 'italian',\n",
       " 'kazakh',\n",
       " 'norwegian',\n",
       " 'portuguese',\n",
       " 'romanian',\n",
       " 'russian',\n",
       " 'spanish',\n",
       " 'swedish',\n",
       " 'turkish']"
      ]
     },
     "execution_count": 14,
     "metadata": {},
     "output_type": "execute_result"
    }
   ],
   "source": [
    "from nltk.corpus import stopwords\n",
    "stopwords.fileids()"
   ]
  },
  {
   "cell_type": "code",
   "execution_count": 15,
   "metadata": {},
   "outputs": [
    {
     "name": "stdout",
     "output_type": "stream",
     "text": [
      "44.8 ns ± 0.506 ns per loop (mean ± std. dev. of 7 runs, 10000000 loops each)\n"
     ]
    }
   ],
   "source": [
    "%timeit 'g' in 'abcdefg'\n",
    "# 在string中做查询最快，其次是set，最慢是list\n",
    "# 也说明字符串处理起来很快，所以，把list中的词用join连成字符串再做处理有优势"
   ]
  },
  {
   "cell_type": "code",
   "execution_count": 16,
   "metadata": {},
   "outputs": [
    {
     "name": "stdout",
     "output_type": "stream",
     "text": [
      "{'e', 'b', 'c', 'g', 'd', 'f', 'a'}\n",
      "['a', 'b', 'c', 'd', 'e', 'f', 'g']\n"
     ]
    }
   ],
   "source": [
    "temp1 = set('abcdefg')\n",
    "print(temp1)\n",
    "temp2 = list('abcdefg')\n",
    "print(temp2)"
   ]
  },
  {
   "cell_type": "code",
   "execution_count": 17,
   "metadata": {},
   "outputs": [
    {
     "name": "stdout",
     "output_type": "stream",
     "text": [
      "55.2 ns ± 0.623 ns per loop (mean ± std. dev. of 7 runs, 10000000 loops each)\n",
      "186 ns ± 0.424 ns per loop (mean ± std. dev. of 7 runs, 10000000 loops each)\n"
     ]
    }
   ],
   "source": [
    "%timeit 'g' in temp1\n",
    "%timeit 'g' in temp2"
   ]
  },
  {
   "cell_type": "code",
   "execution_count": 46,
   "metadata": {},
   "outputs": [
    {
     "name": "stdout",
     "output_type": "stream",
     "text": [
      "朝鲜 出现 一种 军事 解决方案 绝对 可怕 美朝 口水战 空前 激烈 背景 美国参谋长联席会议 主席 约瑟夫 邓福德 近日 访问 北部 战区 司令部 驻地 沈阳 首都北京 长安街 知事 App 发现 这是 美军 高层 首次 参观 能 近距离 监控 中 朝 边境 地区 敏感时期 中国 美国 军方 一号 人物 请 沈阳 释放 强烈 信号 真正 狠 角儿 不靠 嘴前 二战 功勋 五星上将 布莱德雷 太空 司令 理查德 迈尔斯 作为 美国 军方 首长 堆儿 里 首长 参联会 主席 从来不 软蛋 现任 主席 约瑟夫 邓福德 因为 战场 功绩 得到 Fighting Joe 战斗 乔 绰号 不过 因为 军人 身份 美国 军方 指挥官 五角大楼 白宫 文官 说话 谱 昨天 邓福德 结束 访问 解放军 北部 战区 北京 行程 美联社 邓福德 北京 会见 中国军方 高层 表达 这样 一层 意思 朝鲜 出现 一种 军事 解决方案 绝对 可怕 一点 毋庸置疑 意思 我们 必要 制定 有效 沟通 机制 这样一来 一旦 爆发 危机 我们 能够 立即 进行 对话 避免 误判 加剧 危机 有意思 邓福德 说法 美国 总统 特朗普 防长 马蒂斯 截然 相反 二者 分别 办公室 里 记者 咆哮 朝鲜 面临 前所未有 炮火 怒火 一旦 美军 对朝 开展 朝鲜 必败 等等 媒体 广泛 解读 口水战 然而 真正 狠 角儿 不靠 嘴 华尔街日报 透露 早 特朗普 金正恩 口水战 升温 之前 邓福德 访华 计划 就 制订 指挥官 怕 什么 美国 希望 金正恩 同意 实现 朝鲜 无核化 停止 试射 导弹 邓福德 北京 可取 最终 状态 那么 美国 指挥官 怕 什么 呢 班农 白宫 中 少数 军方 持 相同 观点 文官 实话 这位 逐渐 边缘化 特朗普 首席 战略 分析师 对 朝鲜 美国 存在 军事 解决方案 忘 有人 解开 这部分 方程式 证明 首尔 万人 不会 头 分钟 死 常规武器 之前 知道 谈论 什么 这里 根本 存在 军事 解决方案 他们 难住 我们 没错 知事 早先 分析 过 朝鲜 真正 王牌 不是 那些 没 核导弹 而是 隐藏 三八线 群山 地下 工事 中 近 千门 火炮 一旦 朝鲜 拼命 这些 火炮 一轮 齐射 就 距离 三八线 仅 公里 首尔 瞬间 回到 年前 多万 居民 身处 火海 美国 太平洋 舰队 司令部 多少 航母 舰载机 关岛 、 釜山 、 横须贺 基地 多少 弹道导弹 能 先发制人 削平 板门店 附近 山头 呢 不能 保全 首尔 那么 特朗普 炮火 瞬间 就 会 转化 韩国 怒火 一旦 开火 中 美 怎么办 到访 北京 同样 受 关注 邓福德 访华之旅 还有 重要 一站 沈阳 解放军 北部 战区 司令部 美国 媒体 称 这是 中国 距离 朝鲜 最近 战区 华尔街日报 称 美国 高层 军官 几乎 从未 参观 过 能 近距离 监控 中 朝 边境 地区 中国 敏感时期 美国 军方 一号 请 这里 意味着 什么 美国 给出 解释 似乎 表明 朝鲜 威胁 越来越 大 中国 美国 一样 担心 日 邓福德 沈阳 观看 陆军 合成 旅 实弹演习 中国 军改 下于 近几个月 组建 新 军事 单位 之一 位于 中国 东北 部队 旨在 应对 包括 美国 军事 打击 在内 潜在 朝鲜 危机 美国 军方 官员 称 邓福德 观摩 实弹演习 之后 似乎 没有 发现 任何 可能 用于 朝鲜 危机 特殊 能力 那么 一旦 半岛 生战 中美会 怎么办 美国 媒体 称 中国 长期以来 一直 拒绝 美国 提出 双方 进行 磋商 沟通 请求 美国 提出 中 美 进行 磋商 防止 一旦 爆发 朝鲜 危机 美国 中国 行动 产生 冲突 此次 美 中 之间 展开 新 讨论 显示 中国 想法 发生 转变 邓福德 对 记者 围绕 朝鲜半岛 潜在 危机 可能 局面 初步 对话 应 危机 爆发 前 展开 两 国 军方 建立 有效 沟通 机制 帮助 一旦 发生 危机 双方 可以 立即 交流 从而 避免 误判 加深 危机 中国 美方 释放 出 强烈 信号 根据 中国国防部 发布 消息 军委 副 主席 范 长龙 北京 会见 邓福德 时说 对话 协商 解决 朝鲜半岛 唯一 有效途径 军事手段 不能 成为 选项\n"
     ]
    },
    {
     "data": {
      "text/plain": [
       "str"
      ]
     },
     "execution_count": 46,
     "metadata": {},
     "output_type": "execute_result"
    }
   ],
   "source": [
    "filter_seg=filter(lambda x: x not in my_stopset and len(x.strip())>0, jieba.cut(st1))\n",
    "# type(filter_seg)\n",
    "# print(filter_seg)\n",
    "# print(len(list(filter_seg)))\n",
    "# print('\\r')\n",
    "# print(' '.join(filter_seg))\n",
    "\n",
    "data_tokenized = ' '.join(filter_seg)\n",
    "print(data_tokenized)\n",
    "type(data_tokenized)"
   ]
  },
  {
   "cell_type": "code",
   "execution_count": 45,
   "metadata": {},
   "outputs": [
    {
     "name": "stdout",
     "output_type": "stream",
     "text": [
      "邓福德 朝鲜 美国 军方 特朗普 危机 一旦 解决方案 军事 战区 口水战 中国 沈阳 首尔 指挥官 实弹演习 金正恩 北京 主席 敏感时期 误判 对话 高层 司令部 沟通 角儿 三八线 知事 约瑟夫 不靠 华尔街日报 朝鲜半岛 媒体 近距离 白宫 爆发 怒火 北部 磋商 一号 炮火 文官 会见 瞬间 真正 解放军 参观 首长 监控 美军 边境 火炮 访问 什么 潜在 那么 可怕 怎么办 中国国防部 释放 信号 布莱德雷 参联会 千门 距离 避免 中国军方 展开 机制 绝对 美朝 美国参谋长联席会议 App 嘴前 迈尔斯 Fighting Joe 防长 对朝 班农 军改 下于 生战 中美会 如果 问题 强烈 立即 意思 双方 军事手段 软蛋 马蒂斯 横须贺 板门店 进行 五星上将 核导弹 无核化 访华之旅\n"
     ]
    }
   ],
   "source": [
    "import jieba.analyse\n",
    "tags = jieba.analyse.extract_tags(st1, topK=100)\n",
    "print(' '.join(tags))"
   ]
  },
  {
   "cell_type": "markdown",
   "metadata": {},
   "source": [
    "## 4. Missing data"
   ]
  },
  {
   "cell_type": "code",
   "execution_count": null,
   "metadata": {
    "collapsed": true
   },
   "outputs": [],
   "source": []
  }
 ],
 "metadata": {
  "kernelspec": {
   "display_name": "Python 3",
   "language": "python",
   "name": "python3"
  },
  "language_info": {
   "codemirror_mode": {
    "name": "ipython",
    "version": 3
   },
   "file_extension": ".py",
   "mimetype": "text/x-python",
   "name": "python",
   "nbconvert_exporter": "python",
   "pygments_lexer": "ipython3",
   "version": "3.6.2"
  }
 },
 "nbformat": 4,
 "nbformat_minor": 2
}
